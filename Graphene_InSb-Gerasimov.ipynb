{
 "cells": [
  {
   "cell_type": "code",
   "execution_count": 4,
   "id": "e3c7db1c",
   "metadata": {},
   "outputs": [],
   "source": [
    "import numpy as np\n",
    "import scipy\n",
    "import math\n",
    "import matplotlib.pyplot as plt"
   ]
  },
  {
   "cell_type": "code",
   "execution_count": 5,
   "id": "5fa4ac0e",
   "metadata": {},
   "outputs": [],
   "source": [
    "file = open(\"table.txt\", \"r\").read()"
   ]
  },
  {
   "cell_type": "code",
   "execution_count": 6,
   "id": "4062b509",
   "metadata": {},
   "outputs": [
    {
     "data": {
      "text/plain": [
       "'0\\t45\\t30\\n100\\t43\\t30\\n200\\t43\\t29\\n300\\t41.5\\t28\\n400\\t41\\t27\\n500\\t40\\t24\\n600\\t38\\t25\\n700\\t38\\t24\\n800\\t38\\t21\\n900\\t37\\t23\\n1000\\t35\\t22\\n1100\\t35\\t21\\n1200\\t32\\t20\\n1300\\t26\\t19\\n1400\\t26\\t18\\n1500\\t21\\t18\\n1600\\t20\\t18\\n1700\\t17\\t19\\n1800\\t17\\t20\\n1900\\t18\\t20\\n2000\\t17\\t22\\n2100\\t18\\t21\\n2200\\t22\\t23\\n2300\\t23\\t26\\n2400\\t26\\t28\\n2500\\t30\\t29\\n2600\\t34\\t33\\n2700\\t37\\t36\\n2800\\t39\\t42\\n2900\\t43\\t44\\n3000\\t47\\t45\\n3100\\t48\\t47\\n3200\\t51\\t51\\n3300\\t57\\t55\\n3400\\t59\\t60\\n3500\\t59\\t60\\n4000\\t71\\t67\\n4500\\t73\\t74\\n5000\\t75\\t74\\n5500\\t81\\t78\\n6000\\t82\\t76\\n6500\\t81\\t77\\n7000\\t82\\t79'"
      ]
     },
     "execution_count": 6,
     "metadata": {},
     "output_type": "execute_result"
    }
   ],
   "source": [
    "file"
   ]
  },
  {
   "cell_type": "code",
   "execution_count": 7,
   "id": "a22ee287",
   "metadata": {},
   "outputs": [
    {
     "data": {
      "text/plain": [
       "array([[   0. ,   45. ,   30. ],\n",
       "       [ 100. ,   43. ,   30. ],\n",
       "       [ 200. ,   43. ,   29. ],\n",
       "       [ 300. ,   41.5,   28. ],\n",
       "       [ 400. ,   41. ,   27. ],\n",
       "       [ 500. ,   40. ,   24. ],\n",
       "       [ 600. ,   38. ,   25. ],\n",
       "       [ 700. ,   38. ,   24. ],\n",
       "       [ 800. ,   38. ,   21. ],\n",
       "       [ 900. ,   37. ,   23. ],\n",
       "       [1000. ,   35. ,   22. ],\n",
       "       [1100. ,   35. ,   21. ],\n",
       "       [1200. ,   32. ,   20. ],\n",
       "       [1300. ,   26. ,   19. ],\n",
       "       [1400. ,   26. ,   18. ],\n",
       "       [1500. ,   21. ,   18. ],\n",
       "       [1600. ,   20. ,   18. ],\n",
       "       [1700. ,   17. ,   19. ],\n",
       "       [1800. ,   17. ,   20. ],\n",
       "       [1900. ,   18. ,   20. ],\n",
       "       [2000. ,   17. ,   22. ],\n",
       "       [2100. ,   18. ,   21. ],\n",
       "       [2200. ,   22. ,   23. ],\n",
       "       [2300. ,   23. ,   26. ],\n",
       "       [2400. ,   26. ,   28. ],\n",
       "       [2500. ,   30. ,   29. ],\n",
       "       [2600. ,   34. ,   33. ],\n",
       "       [2700. ,   37. ,   36. ],\n",
       "       [2800. ,   39. ,   42. ],\n",
       "       [2900. ,   43. ,   44. ],\n",
       "       [3000. ,   47. ,   45. ],\n",
       "       [3100. ,   48. ,   47. ],\n",
       "       [3200. ,   51. ,   51. ],\n",
       "       [3300. ,   57. ,   55. ],\n",
       "       [3400. ,   59. ,   60. ],\n",
       "       [3500. ,   59. ,   60. ],\n",
       "       [4000. ,   71. ,   67. ],\n",
       "       [4500. ,   73. ,   74. ],\n",
       "       [5000. ,   75. ,   74. ],\n",
       "       [5500. ,   81. ,   78. ],\n",
       "       [6000. ,   82. ,   76. ],\n",
       "       [6500. ,   81. ,   77. ],\n",
       "       [7000. ,   82. ,   79. ]])"
      ]
     },
     "execution_count": 7,
     "metadata": {},
     "output_type": "execute_result"
    }
   ],
   "source": [
    "def string_to_np_array(input_string):\n",
    "    divisions = input_string.split('\\n')\n",
    "    result_2d_list = np.array([list(map(float, division.split('\\t'))) for division in divisions])\n",
    "    return result_2d_list\n",
    "string_to_np_array(file)"
   ]
  },
  {
   "cell_type": "code",
   "execution_count": 5,
   "id": "14efbb3a",
   "metadata": {},
   "outputs": [],
   "source": [
    "n_1=complex(1.531, -0.002) # комплексный показатель преломления призмы (Zeonex)\n",
    "eps_1=n_1**2 # диэлектрическая проницаемость призмы (Zeonex)\n",
    "eps_2=1 # диэлектрическая проницаемость воздуха\n",
    "eps_3=complex(2.56, -0.002) # диэлектрическая проницаемость тонкого слоя диэлектрика на InSb 940-i*260 -15+i*700\n",
    "\n",
    "#Параметры InSb в модели Друде Лоренца\n",
    "wp=0.578*10**14 #плазменная частота (рад/с)\n",
    "gp=1/5.16*10**3  #частота столкновений (рад/с)\n",
    "wl=3.4*10**13 #частота Лоренца (рад/с)\n",
    "gl=1/3*10**12 #Лоренцева частота столкновений (рад/с)\n",
    "Al=2.02 #Амплитуда в модели Лоренца\n",
    "eps0=15.86 #диэлектрическая проницаемость на бесконечности\n",
    "\n",
    "wavelength=197*10**(-6)  #длина волны излучения\n",
    "f=3*10**8/wavelength  #частота излучения\n",
    "w=6.28*f  #круговая частота\n",
    "\n",
    "#Модель Друде-Лоренца для проницаемости InSb\n",
    "eps_4=eps0-wp**2/complex(w**2, gp*w)+Al*wl**2/complex(wl**2-w**2, -gl*w) \n",
    "\n",
    "d_2=np.linspace(0*10**(-6), 450*10**(-6), 450)  #величина зазора между призмой и InSb\n",
    "d_3=4.7*10**(-6) \n",
    "teta=42.21*np.pi/180  #угол падения в призме\n",
    "\n",
    "# f=1.5*10**12:0.01*10**12:2*10**12 \n",
    "# w=6.28*f \n",
    "# \n",
    "# #Модель Друде-Лоренца для проницаемости InSb\n",
    "# for j=1:1:length(w)\n",
    "#     eps(j)=eps0-wp**2/(w(j)**2+i*gp*w(j))+Al*wl**2/(wl**2-w(j)**2-i*gl*w(j)) \n",
    "# end \n",
    "# plot (f, real(eps), f, imag(eps)) "
   ]
  },
  {
   "cell_type": "code",
   "execution_count": 11,
   "id": "2199fb40",
   "metadata": {},
   "outputs": [
    {
     "name": "stdout",
     "output_type": "stream",
     "text": [
      "(2, 2)\n"
     ]
    }
   ],
   "source": [
    "kz_1=np.sqrt(eps_1)*np.cos(teta)\n",
    "kz_2=np.sqrt(eps_2-eps_1*np.sin(teta)**2)\n",
    "kz_3=np.sqrt(eps_3-eps_1*np.sin(teta)**2)\n",
    "kz_4=np.sqrt(eps_4-eps_1*np.sin(teta)**2)\n",
    "#Коэффициенты отражения\n",
    "r_12=(eps_2*kz_1-eps_1*kz_2)/(eps_2*kz_1+eps_1*kz_2)\n",
    "r_23=(eps_3*kz_2-eps_2*kz_3)/(eps_3*kz_2+eps_2*kz_3)\n",
    "r_34=(eps_4*kz_3-eps_3*kz_4)/(eps_4*kz_3+eps_3*kz_4)\n",
    "\n",
    "#Коэффициенты пропускания\n",
    "t_12=2*kz_1*np.sqrt(eps_1*eps_2)/(eps_2*kz_1+eps_1*kz_2)\n",
    "t_23=2*kz_2*np.sqrt(eps_2*eps_3)/(eps_3*kz_2+eps_2*kz_3)\n",
    "t_34=2*kz_3*np.sqrt(eps_3*eps_4)/(eps_4*kz_3+eps_3*kz_4)\n",
    "\n",
    "#Матрица преобразования\n",
    "S1=np.array([[1/t_12, r_12/t_12], [r_12/t_12, 1/t_12]])\n",
    "S3=np.array([[np.exp(-complex(0, 1)*(2*np.pi/wavelength)*kz_3*d_3)/t_34, \n",
    "              r_34*np.exp(-complex(0, 1)*(2*np.pi/wavelength)*kz_3*d_3)/t_34], \n",
    "                [r_34*np.exp(complex(0, 1)*(2*np.pi/wavelength)*kz_3*d_3)/t_34, \n",
    "                 np.exp(complex(0, 1)*(2*np.pi/wavelength)*kz_3*d_3)/t_34]])\n"
   ]
  },
  {
   "cell_type": "code",
   "execution_count": 7,
   "id": "fb19b599",
   "metadata": {},
   "outputs": [
    {
     "data": {
      "text/plain": [
       "[<matplotlib.lines.Line2D at 0x23dc8e13820>]"
      ]
     },
     "execution_count": 7,
     "metadata": {},
     "output_type": "execute_result"
    },
    {
     "data": {
      "image/png": "[encoded data removed]",
      "text/plain": [
       "<Figure size 432x288 with 1 Axes>"
      ]
     },
     "metadata": {
      "needs_background": "light"
     },
     "output_type": "display_data"
    }
   ],
   "source": [
    "R = []\n",
    "for j in range(len(d_2)):   #1:1:length(d_2)\n",
    "    S2=np.array([[np.exp(-complex(0, 1)*(2*np.pi/wavelength)*kz_2*d_2[j])/t_23, r_23*np.exp(-complex(0, 1)*(2*np.pi/wavelength)*kz_2*d_2[j])/t_23],  [r_23*np.exp(complex(0, 1)*(2*np.pi/wavelength)*kz_2*d_2[j])/t_23, np.exp(complex(0, 1)*(2*np.pi/wavelength)*kz_2*d_2[j])/t_23]])\n",
    "    S=S1@S2@S3\n",
    "    R += [abs(S[1][0]/S[0][0])]\n",
    "\n",
    "\n",
    "plt.plot((d_2-d_3)*10**6, R)\n",
    "\n",
    "\n",
    "#Data=np.array([(d_2-d_3)*10**6, R])\n",
    "\n"
   ]
  },
  {
   "cell_type": "markdown",
   "id": "a43e771a",
   "metadata": {},
   "source": [
    "### e4 = complex(-17.3, 7.12)\n",
    "#InSb"
   ]
  },
  {
   "cell_type": "code",
   "execution_count": 7,
   "id": "761874d9",
   "metadata": {},
   "outputs": [
    {
     "ename": "NameError",
     "evalue": "name 'e1' is not defined",
     "output_type": "error",
     "traceback": [
      "\u001b[1;31m---------------------------------------------------------------------------\u001b[0m",
      "\u001b[1;31mNameError\u001b[0m                                 Traceback (most recent call last)",
      "Input \u001b[1;32mIn [7]\u001b[0m, in \u001b[0;36m<cell line: 2>\u001b[1;34m()\u001b[0m\n\u001b[0;32m      1\u001b[0m inc_angle \u001b[38;5;241m=\u001b[39m \u001b[38;5;241m40\u001b[39m\u001b[38;5;241m*\u001b[39m\u001b[38;5;241m2\u001b[39m\u001b[38;5;241m*\u001b[39mmath\u001b[38;5;241m.\u001b[39mpi\u001b[38;5;241m/\u001b[39m\u001b[38;5;241m360\u001b[39m\n\u001b[1;32m----> 2\u001b[0m angle \u001b[38;5;241m=\u001b[39m np\u001b[38;5;241m.\u001b[39mpi\u001b[38;5;241m/\u001b[39m\u001b[38;5;241m4\u001b[39m\u001b[38;5;241m-\u001b[39mnp\u001b[38;5;241m.\u001b[39marcsin(np\u001b[38;5;241m.\u001b[39msin(np\u001b[38;5;241m.\u001b[39mpi\u001b[38;5;241m/\u001b[39m\u001b[38;5;241m4\u001b[39m\u001b[38;5;241m-\u001b[39minc_angle)\u001b[38;5;241m/\u001b[39mnp\u001b[38;5;241m.\u001b[39msqrt(\u001b[43me1\u001b[49m))\n\u001b[0;32m      3\u001b[0m e1 \u001b[38;5;241m=\u001b[39m \u001b[38;5;241m1\u001b[39m\n\u001b[0;32m      4\u001b[0m e2 \u001b[38;5;241m=\u001b[39m \u001b[38;5;241m1\u001b[39m\n",
      "\u001b[1;31mNameError\u001b[0m: name 'e1' is not defined"
     ]
    }
   ],
   "source": [
    "inc_angle = 40*2*math.pi/360\n",
    "angle = np.pi/4-np.arcsin(np.sin(np.pi/4-inc_angle)/np.sqrt(e1))\n",
    "e1 = 1\n",
    "e2 = 1\n",
    "\n",
    "w_len = 197*pow(10, -6)\n",
    "def kx(e3):\n",
    "    return 2*np.pi/w_len/np.sqrt(e2)*np.sqrt(e2*e3/(e2+e3))\n",
    "\n",
    "def kz1(e3):\n",
    "    return kx(e3)*np.sqrt(e1-e1*pow(np.sin(angle), 2))\n",
    "\n",
    "def kz2(e3):\n",
    "    return kx(e3)*np.sqrt(e2-e1*pow(np.sin(angle), 2))\n",
    "\n",
    "def kz3(e3):\n",
    "    return kx(e3)*np.sqrt(e3-e1*pow(np.sin(angle), 2))\n",
    "\n",
    "def optim(e3):\n",
    "    return abs(d  + 0.5*kz2*complex(0, 1) * np.log(-(kz1-e1*kz2)(kz2*e3+kz3(e3))/(kz2*e3-kz3(e3))/(kz1+e1*kz2)  ))\n",
    "\n"
   ]
  },
  {
   "cell_type": "code",
   "execution_count": null,
   "id": "564068b6",
   "metadata": {},
   "outputs": [
    {
     "name": "stdout",
     "output_type": "stream",
     "text": [
      "Help on class complex in module builtins:\n",
      "\n",
      "class complex(object)\n",
      " |  complex(real=0, imag=0)\n",
      " |  \n",
      " |  Create a complex number from a real part and an optional imaginary part.\n",
      " |  \n",
      " |  This is equivalent to (real + imag*1j) where imag defaults to 0.\n",
      " |  \n",
      " |  Methods defined here:\n",
      " |  \n",
      " |  __abs__(self, /)\n",
      " |      abs(self)\n",
      " |  \n",
      " |  __add__(self, value, /)\n",
      " |      Return self+value.\n",
      " |  \n",
      " |  __bool__(self, /)\n",
      " |      True if self else False\n",
      " |  \n",
      " |  __eq__(self, value, /)\n",
      " |      Return self==value.\n",
      " |  \n",
      " |  __format__(self, format_spec, /)\n",
      " |      Convert to a string according to format_spec.\n",
      " |  \n",
      " |  __ge__(self, value, /)\n",
      " |      Return self>=value.\n",
      " |  \n",
      " |  __getattribute__(self, name, /)\n",
      " |      Return getattr(self, name).\n",
      " |  \n",
      " |  __getnewargs__(self, /)\n",
      " |  \n",
      " |  __gt__(self, value, /)\n",
      " |      Return self>value.\n",
      " |  \n",
      " |  __hash__(self, /)\n",
      " |      Return hash(self).\n",
      " |  \n",
      " |  __le__(self, value, /)\n",
      " |      Return self<=value.\n",
      " |  \n",
      " |  __lt__(self, value, /)\n",
      " |      Return self<value.\n",
      " |  \n",
      " |  __mul__(self, value, /)\n",
      " |      Return self*value.\n",
      " |  \n",
      " |  __ne__(self, value, /)\n",
      " |      Return self!=value.\n",
      " |  \n",
      " |  __neg__(self, /)\n",
      " |      -self\n",
      " |  \n",
      " |  __pos__(self, /)\n",
      " |      +self\n",
      " |  \n",
      " |  __pow__(self, value, mod=None, /)\n",
      " |      Return pow(self, value, mod).\n",
      " |  \n",
      " |  __radd__(self, value, /)\n",
      " |      Return value+self.\n",
      " |  \n",
      " |  __repr__(self, /)\n",
      " |      Return repr(self).\n",
      " |  \n",
      " |  __rmul__(self, value, /)\n",
      " |      Return value*self.\n",
      " |  \n",
      " |  __rpow__(self, value, mod=None, /)\n",
      " |      Return pow(value, self, mod).\n",
      " |  \n",
      " |  __rsub__(self, value, /)\n",
      " |      Return value-self.\n",
      " |  \n",
      " |  __rtruediv__(self, value, /)\n",
      " |      Return value/self.\n",
      " |  \n",
      " |  __sub__(self, value, /)\n",
      " |      Return self-value.\n",
      " |  \n",
      " |  __truediv__(self, value, /)\n",
      " |      Return self/value.\n",
      " |  \n",
      " |  conjugate(self, /)\n",
      " |      Return the complex conjugate of its argument. (3-4j).conjugate() == 3+4j.\n",
      " |  \n",
      " |  ----------------------------------------------------------------------\n",
      " |  Static methods defined here:\n",
      " |  \n",
      " |  __new__(*args, **kwargs) from builtins.type\n",
      " |      Create and return a new object.  See help(type) for accurate signature.\n",
      " |  \n",
      " |  ----------------------------------------------------------------------\n",
      " |  Data descriptors defined here:\n",
      " |  \n",
      " |  imag\n",
      " |      the imaginary part of a complex number\n",
      " |  \n",
      " |  real\n",
      " |      the real part of a complex number\n",
      "\n"
     ]
    }
   ],
   "source": [
    "help(\"complex\")"
   ]
  },
  {
   "cell_type": "code",
   "execution_count": null,
   "id": "d3ef007c",
   "metadata": {},
   "outputs": [
    {
     "name": "stdout",
     "output_type": "stream",
     "text": [
      "No Python documentation found for 'scipy.least_squares'.\n",
      "Use help() to get the interactive help utility.\n",
      "Use help(str) for help on the str class.\n",
      "\n"
     ]
    }
   ],
   "source": [
    "help(\"scipy.least_squares\")"
   ]
  },
  {
   "cell_type": "code",
   "execution_count": 86,
   "id": "20537faf",
   "metadata": {},
   "outputs": [
    {
     "data": {
      "text/plain": [
       "array([[ 7, 10],\n",
       "       [15, 22]])"
      ]
     },
     "execution_count": 86,
     "metadata": {},
     "output_type": "execute_result"
    }
   ],
   "source": [
    "a = np.array([[1, 2], [3, 4]])\n",
    "a@a"
   ]
  },
  {
   "cell_type": "code",
   "execution_count": 75,
   "id": "ce501495",
   "metadata": {},
   "outputs": [
    {
     "data": {
      "text/plain": [
       "array([1.])"
      ]
     },
     "execution_count": 75,
     "metadata": {},
     "output_type": "execute_result"
    }
   ],
   "source": [
    "a=np.empty(0)\n",
    "np.append(a, [1])"
   ]
  },
  {
   "cell_type": "code",
   "execution_count": 119,
   "id": "094b66d3",
   "metadata": {},
   "outputs": [
    {
     "name": "stdout",
     "output_type": "stream",
     "text": [
      "Help on function append in numpy:\n",
      "\n",
      "numpy.append = append(arr, values, axis=None)\n",
      "    Append values to the end of an array.\n",
      "    \n",
      "    Parameters\n",
      "    ----------\n",
      "    arr : array_like\n",
      "        Values are appended to a copy of this array.\n",
      "    values : array_like\n",
      "        These values are appended to a copy of `arr`.  It must be of the\n",
      "        correct shape (the same shape as `arr`, excluding `axis`).  If\n",
      "        `axis` is not specified, `values` can be any shape and will be\n",
      "        flattened before use.\n",
      "    axis : int, optional\n",
      "        The axis along which `values` are appended.  If `axis` is not\n",
      "        given, both `arr` and `values` are flattened before use.\n",
      "    \n",
      "    Returns\n",
      "    -------\n",
      "    append : ndarray\n",
      "        A copy of `arr` with `values` appended to `axis`.  Note that\n",
      "        `append` does not occur in-place: a new array is allocated and\n",
      "        filled.  If `axis` is None, `out` is a flattened array.\n",
      "    \n",
      "    See Also\n",
      "    --------\n",
      "    insert : Insert elements into an array.\n",
      "    delete : Delete elements from an array.\n",
      "    \n",
      "    Examples\n",
      "    --------\n",
      "    >>> np.append([1, 2, 3], [[4, 5, 6], [7, 8, 9]])\n",
      "    array([1, 2, 3, ..., 7, 8, 9])\n",
      "    \n",
      "    When `axis` is specified, `values` must have the correct shape.\n",
      "    \n",
      "    >>> np.append([[1, 2, 3], [4, 5, 6]], [[7, 8, 9]], axis=0)\n",
      "    array([[1, 2, 3],\n",
      "           [4, 5, 6],\n",
      "           [7, 8, 9]])\n",
      "    >>> np.append([[1, 2, 3], [4, 5, 6]], [7, 8, 9], axis=0)\n",
      "    Traceback (most recent call last):\n",
      "        ...\n",
      "    ValueError: all the input arrays must have same number of dimensions, but\n",
      "    the array at index 0 has 2 dimension(s) and the array at index 1 has 1\n",
      "    dimension(s)\n",
      "\n"
     ]
    }
   ],
   "source": [
    "help(\"numpy.append\")"
   ]
  },
  {
   "cell_type": "code",
   "execution_count": 131,
   "id": "5602f06e",
   "metadata": {},
   "outputs": [
    {
     "name": "stdout",
     "output_type": "stream",
     "text": [
      "0\n",
      "1\n",
      "2\n",
      "3\n",
      "4\n"
     ]
    }
   ],
   "source": [
    "for i in range(5):\n",
    "    print(i)"
   ]
  },
  {
   "cell_type": "code",
   "execution_count": null,
   "id": "c8af4079",
   "metadata": {},
   "outputs": [],
   "source": []
  }
 ],
 "metadata": {
  "kernelspec": {
   "display_name": "Python 3 (ipykernel)",
   "language": "python",
   "name": "python3"
  },
  "language_info": {
   "codemirror_mode": {
    "name": "ipython",
    "version": 3
   },
   "file_extension": ".py",
   "mimetype": "text/x-python",
   "name": "python",
   "nbconvert_exporter": "python",
   "pygments_lexer": "ipython3",
   "version": "3.10.4"
  }
 },
 "nbformat": 4,
 "nbformat_minor": 5
}
