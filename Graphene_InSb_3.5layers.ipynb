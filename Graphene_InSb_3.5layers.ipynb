{
 "cells": [
  {
   "cell_type": "code",
   "execution_count": 1,
   "id": "e3c7db1c",
   "metadata": {},
   "outputs": [],
   "source": [
    "import numpy as np\n",
    "import scipy \n",
    "import math\n",
    "import matplotlib.pyplot as plt\n",
    "import pandas as pd"
   ]
  },
  {
   "cell_type": "code",
   "execution_count": 2,
   "id": "c024497f",
   "metadata": {},
   "outputs": [],
   "source": [
    "n_prism = complex(1.531, -0.002)                   # комплексный показатель преломления призмы (Zeonex)\n",
    "eps_prism = n_prism**2                             # диэлектрическая проницаемость призмы (Zeonex)\n",
    "eps_air = n = 1                                    # диэлектрическая проницаемость воздуха (1.00027717)\n",
    "eps_InSb = complex(-17.3, 7.12)                    # InSb на 197мкм из Telegram\n",
    "wavelength = 197 * 10**(-6)                        # длина волны лазера в метрах\n",
    "d_gr = 17 * 10**(-9)                               # толщина графеновой плёнки в метрах\n",
    "\n",
    "\n",
    "# -18.474508935284483+0.006568625288807081j - InSb по Друде-Лоренцу\n",
    "# угол и зазор подгоняется из условия резонанса, т.к. гониометр и \"линейка\" неточные (???)\n",
    "# какая точность нужна для расчётов? "
   ]
  },
  {
   "cell_type": "code",
   "execution_count": 20,
   "id": "5fa4ac0e",
   "metadata": {},
   "outputs": [
    {
     "name": "stdout",
     "output_type": "stream",
     "text": [
      "  gap;signal;;Noise;Er_signal;sum;IMO;Norm;Er_Norm\n",
      "0             -32;39;--;-8;1;10;46;0.27976;0.01399\n",
      "1           -15.4;37;--;-8;1;10;46;0.26786;0.01339\n",
      "2               45323;34;--;-8;1;10;46;0.25;0.0125\n"
     ]
    }
   ],
   "source": [
    "#переделать с пандами\n",
    "data_3_5 =  pd.read_csv(r\"C:\\Users\\belco\\Documents\\Graphene\\Graphene-films-plasmon-refractometry\\Data\\Data_many_layers\\layers_3_5_table.csv\")\n",
    "#file_3_5 = open(r\"C:\\Users\\belco\\Documents\\Graphene\\Graphene-films-plasmon-refractometry\\Data\\Data_many_layers\\3.5_layers_table.csv\", \"r\").read()  # файлы из телеги, \n",
    "#file_1 = open(r\"R(gap)_InSb+Graphene.txt\", \"r\").read() # они перепутаны!\n",
    "def string_to_np_array(input_string):\n",
    "    divisions = input_string.split('\\n')\n",
    "    result_2d_list = np.array([list(map(float, division.split('\\t'))) for division in divisions])\n",
    "    return result_2d_list\n",
    "\n",
    "\n",
    "#file1 = string_to_np_array(file1) \n",
    "#file2 = string_to_np_array(file2)\n",
    "\n",
    "\n",
    "\n",
    "#column = file2[::, 1:2:]\n",
    "#Data = string_to_np_array(file1)[::, :2:]\n",
    "#Data = np.append (file, column,  axis= 1 )\n",
    "print(data_3_5.head(3))\n",
    "\n"
   ]
  },
  {
   "cell_type": "code",
   "execution_count": 26,
   "id": "a22ee287",
   "metadata": {},
   "outputs": [
    {
     "name": "stdout",
     "output_type": "stream",
     "text": [
      "[0.46667 0.42745 0.36863 0.36471 0.32157 0.2     0.16471 0.07843 0.0902\n",
      " 0.1098  0.21569 0.2549  0.35294 0.49804 0.58039 0.69412 0.78039 0.92157\n",
      " 1.      0.96078 1.      1.     ]\n"
     ]
    },
    {
     "data": {
      "image/png": "[encoded data removed]",
      "text/plain": [
       "<Figure size 432x288 with 1 Axes>"
      ]
     },
     "metadata": {
      "needs_background": "light"
     },
     "output_type": "display_data"
    },
    {
     "name": "stdout",
     "output_type": "stream",
     "text": [
      "[5.400e-06 2.200e-05 3.860e-05 5.520e-05 6.350e-05 9.670e-05 1.133e-04\n",
      " 1.299e-04 1.465e-04 1.631e-04 1.797e-04 1.880e-04 2.046e-04 2.212e-04\n",
      " 2.378e-04 2.544e-04 2.710e-04 3.125e-04 3.540e-04 3.955e-04 4.370e-04\n",
      " 5.200e-04]\n"
     ]
    }
   ],
   "source": [
    "d_2 = file1[::, 0]*10**(-6) #из мкм в м\n",
    "R_In = file2[::, 1] # названия файлов перепутаны\n",
    "err_In = file2[::, 2]\n",
    "R_Gr = file1[::, 1]\n",
    "err_Gr = file1[::, 2]\n",
    "\n",
    "#noise_Gr = 9 зачем?\n",
    "\n",
    "plt.plot(d_2, R_In, '--r') #график экспериментальных данных для проверки\n",
    "plt.plot(d_2, R_Gr, ':b')\n",
    "\n",
    "d_min = d_2[19] #экспериментальный минимум\n",
    "print(R_Gr)\n",
    "plt.show()\n",
    "print(d_2)"
   ]
  },
  {
   "cell_type": "code",
   "execution_count": 9,
   "id": "332943fb",
   "metadata": {},
   "outputs": [
    {
     "ename": "SyntaxError",
     "evalue": "incomplete input (1306601872.py, line 27)",
     "output_type": "error",
     "traceback": [
      "\u001b[1;36m  Input \u001b[1;32mIn [9]\u001b[1;36m\u001b[0m\n\u001b[1;33m    # plot (f, real(eps), f, imag(eps)) \"\"\"\"\"\"\u001b[0m\n\u001b[1;37m                             ^\u001b[0m\n\u001b[1;31mSyntaxError\u001b[0m\u001b[1;31m:\u001b[0m incomplete input\n"
     ]
    }
   ],
   "source": [
    "\"\"\"\"#Параметры InSb в модели Друде Лоренца\n",
    "wp=0.578*10**14 #плазменная частота (рад/с)\n",
    "gp=1/5.16*10**3  #частота столкновений (рад/с)\n",
    "wl=3.4*10**13 #частота Лоренца (рад/с)\n",
    "gl=1/3*10**12 #Лоренцева частота столкновений (рад/с)\n",
    "Al=2.02 #Амплитуда в модели Лоренца\n",
    "eps0=15.86 #диэлектрическая проницаемость на бесконечности\n",
    "\n",
    "wavelength=197*10**(-6)  #длина волны излучения\n",
    "f=3*10**8/wavelength  #частота излучения\n",
    "w=6.28*f  #круговая частота\n",
    "\n",
    "#Модель Друде-Лоренца для проницаемости InSb\n",
    "eps_4=eps0-wp**2/complex(w**2, gp*w)+Al*wl**2/complex(wl**2-w**2, -gl*w) \n",
    "print(eps_4)\n",
    "d_2=np.linspace(0*10**(-6), 450*10**(-6), 450)  #величина зазора между призмой и InSb\n",
    "d_3=4.7*10**(-6) \n",
    "teta=42.21*np.pi/180  #угол падения в призме\n",
    "\n",
    "# f=1.5*10**12:0.01*10**12:2*10**12 \n",
    "# w=6.28*f \n",
    "# \n",
    "# #Модель Друде-Лоренца для проницаемости InSb\n",
    "# for j=1:1:length(w)\n",
    "#     eps(j)=eps0-wp**2/(w(j)**2+i*gp*w(j))+Al*wl**2/(wl**2-w(j)**2-i*gl*w(j)) \n",
    "# end \n",
    "# plot (f, real(eps), f, imag(eps)) \"\"\"\"\"\""
   ]
  },
  {
   "cell_type": "code",
   "execution_count": 20,
   "id": "77328164",
   "metadata": {},
   "outputs": [],
   "source": [
    "\"\"\"\"def reflect3(d):  #угол не подгоняется\n",
    "    \n",
    "    kz_1=np.sqrt(eps_1)*np.cos(teta)\n",
    "    kz_2=np.sqrt(eps_2-eps_1*np.sin(teta)**2)\n",
    "    kz_3=np.sqrt(eps_4-eps_1*np.sin(teta)**2)\n",
    "    \n",
    "#Коэффициенты отражения\n",
    "    r_12=(eps_2*kz_1-eps_1*kz_2)/(eps_2*kz_1+eps_1*kz_2)\n",
    "    r_23=(eps_4*kz_2-eps_2*kz_3)/(eps_4*kz_2+eps_2*kz_3)\n",
    "\n",
    "#Коэффициенты пропускания\n",
    "    t_12=2*kz_1*np.sqrt(eps_1*eps_2)/(eps_2*kz_1+eps_1*kz_2) #???\n",
    "    t_23=2*kz_2*np.sqrt(eps_2*eps_4)/(eps_4*kz_2+eps_2*kz_3)\n",
    "   \n",
    " #Матрица пропускания\n",
    "    S1=np.array([[1/t_12, r_12/t_12], [r_12/t_12, 1/t_12]])    \n",
    "    \n",
    "#Расчёт R    \n",
    "    R = []\n",
    "    for j in range(len(d)):   #1:1:length(d_2)\n",
    "        S2=np.array([[np.exp(-complex(0, 1)*(2*np.pi/wavelength)*kz_2*d[j])/t_23, \n",
    "         r_23*np.exp(-complex(0, 1)*(2*np.pi/wavelength)*kz_2*d[j])/t_23],  \n",
    "         [r_23*np.exp(complex(0, 1)*(2*np.pi/wavelength)*kz_2*d[j])/t_23, \n",
    "         np.exp(complex(0, 1)*(2*np.pi/wavelength)*kz_2*d[j])/t_23]])\n",
    "        S=S1@S2\n",
    "        R += [abs(S[1][0]/S[0][0])]\n",
    "    print(S)\n",
    "    return(np.array(R))\n",
    "\"\"\"\n",
    "\n",
    "#угол подгоняется по InSb, код Герасимова\n",
    "def reflect3(d, angle):\n",
    "    \n",
    "    kz_1=np.sqrt(eps_1)*np.cos(angle)\n",
    "    kz_2=np.sqrt(eps_2-eps_1*np.sin(angle)**2)\n",
    "    kz_3=np.sqrt(eps_4-eps_1*np.sin(angle)**2)\n",
    "    \n",
    "#Коэффициенты отражения\n",
    "    r_12=(eps_2*kz_1-eps_1*kz_2)/(eps_2*kz_1+eps_1*kz_2)\n",
    "    r_23=(eps_4*kz_2-eps_2*kz_3)/(eps_4*kz_2+eps_2*kz_3)\n",
    "\n",
    "#Коэффициенты пропускания\n",
    "    t_12=2*kz_1*np.sqrt(eps_1*eps_2)/(eps_2*kz_1+eps_1*kz_2) #???\n",
    "    t_23=2*kz_2*np.sqrt(eps_2*eps_4)/(eps_4*kz_2+eps_2*kz_3)\n",
    "   \n",
    " #Матрица пропускания\n",
    "    S1=np.array([[1/t_12, r_12/t_12], [r_12/t_12, 1/t_12]])    \n",
    "    \n",
    "#Расчёт R    \n",
    "    R = []\n",
    "    for j in range(len(d)):   #1:1:length(d_2)\n",
    "        S2=np.array([[np.exp(-complex(0, 1)*(2*np.pi/wavelength)*kz_2*d_2[j])/t_23, r_23*np.exp(-complex(0, 1)*(2*np.pi/wavelength)*kz_2*d_2[j])/t_23],  [r_23*np.exp(complex(0, 1)*(2*np.pi/wavelength)*kz_2*d_2[j])/t_23, np.exp(complex(0, 1)*(2*np.pi/wavelength)*kz_2*d_2[j])/t_23]])\n",
    "        S=S1@S2\n",
    "        R += [abs(S[1][0]/S[0][0])]\n",
    "    return(np.array(R))\n",
    "\n"
   ]
  },
  {
   "cell_type": "code",
   "execution_count": 21,
   "id": "f28ca599",
   "metadata": {},
   "outputs": [
    {
     "name": "stdout",
     "output_type": "stream",
     "text": [
      "41.7133002363708\n"
     ]
    }
   ],
   "source": [
    "#teta = 0.7291350762966604 #из предыдущего файла\n",
    "#teta = scipy.optimize.curve_fit(reflect3, d_2, R_In, bounds = (0.65, 0.75))[0][0] подгонка угла по In по всему диапазону\n",
    "teta = scipy.optimize.curve_fit(reflect3, d_2[4:11], R_In[4:11], bounds = (0.65, 0.75))[0][0] #подгонка угла по In только по окрестности минимума\n",
    "print(teta*180/np.pi) #угол в градусах\n",
    "#reflect3(d_2, teta)\n",
    "#print(scipy.optimize.curve_fit(reflect4, d_2, R_Gr))\n",
    "\n",
    "#eps_3 = complex(*scipy.optimize.curve_fit(reflect4, d_2, R_Gr)[0])"
   ]
  },
  {
   "cell_type": "code",
   "execution_count": 22,
   "id": "650ff9c7",
   "metadata": {},
   "outputs": [],
   "source": [
    "#код Герасимова \n",
    "def reflect4(d_2, e3_re, e3_im):\n",
    "    eps_3 = complex(e3_re, e3_im) # моя вставка\n",
    "    kz_1=np.sqrt(eps_1)*np.cos(teta)\n",
    "    kz_2=np.sqrt(eps_2-eps_1*np.sin(teta)**2)\n",
    "    kz_3=np.sqrt(eps_3-eps_1*np.sin(teta)**2)\n",
    "    kz_4=np.sqrt(eps_4-eps_1*np.sin(teta)**2)\n",
    "\n",
    "\n",
    "#Коэффициенты отражения\n",
    "    r_12=(eps_2*kz_1-eps_1*kz_2)/(eps_2*kz_1+eps_1*kz_2)\n",
    "    r_23=(eps_3*kz_2-eps_2*kz_3)/(eps_3*kz_2+eps_2*kz_3)\n",
    "    r_34=(eps_4*kz_3-eps_3*kz_4)/(eps_4*kz_3+eps_3*kz_4)\n",
    "\n",
    "#Коэффициенты пропускания\n",
    "    t_12=2*kz_1*np.sqrt(eps_1*eps_2)/(eps_2*kz_1+eps_1*kz_2)\n",
    "    t_23=2*kz_2*np.sqrt(eps_2*eps_3)/(eps_3*kz_2+eps_2*kz_3)\n",
    "    t_34=2*kz_3*np.sqrt(eps_3*eps_4)/(eps_4*kz_3+eps_3*kz_4)\n",
    "\n",
    "#Матрица преобразования\n",
    "    S1=np.array([[1/t_12, r_12/t_12], [r_12/t_12, 1/t_12]])\n",
    "    S3=np.array([[np.exp(-complex(0, 1)*(2*np.pi/wavelength)*kz_3*d_3)/t_34,\n",
    "     r_34*np.exp(-complex(0, 1)*(2*np.pi/wavelength)*kz_3*d_3)/t_34],\n",
    "     [r_34*np.exp(complex(0, 1)*(2*np.pi/wavelength)*kz_3*d_3)/t_34, \n",
    "     np.exp(complex(0, 1)*(2*np.pi/wavelength)*kz_3*d_3)/t_34]])\n",
    "    \n",
    "    R = []\n",
    "    for j in range(len(d_2)):   #1:1:length(d_2)\n",
    "        S2=np.array([[np.exp(-complex(0, 1)*(2*np.pi/wavelength)*kz_2*d_2[j])/t_23, r_23*np.exp(-complex(0, 1)*(2*np.pi/wavelength)*kz_2*d_2[j])/t_23],  [r_23*np.exp(complex(0, 1)*(2*np.pi/wavelength)*kz_2*d_2[j])/t_23, np.exp(complex(0, 1)*(2*np.pi/wavelength)*kz_2*d_2[j])/t_23]])\n",
    "        S=S1@S2@S3\n",
    "        R += [abs(S[1][0]/S[0][0])]\n",
    "    \n",
    "    return np.array(R)"
   ]
  },
  {
   "cell_type": "code",
   "execution_count": 13,
   "id": "3425cc5d",
   "metadata": {},
   "outputs": [
    {
     "name": "stdout",
     "output_type": "stream",
     "text": [
      "File 'ori_hist_2' exists. Overwrite? no\n",
      "Aborting.\n"
     ]
    }
   ],
   "source": [
    "%history -n -o -p -g -f ori_hist_2 # записать историю в файл"
   ]
  },
  {
   "cell_type": "code",
   "execution_count": 14,
   "id": "35fd8a52",
   "metadata": {},
   "outputs": [
    {
     "data": {
      "text/plain": [
       "'C:\\\\Users\\\\belco\\\\Documents\\\\Graphene'"
      ]
     },
     "execution_count": 14,
     "metadata": {},
     "output_type": "execute_result"
    }
   ],
   "source": [
    "pwd"
   ]
  },
  {
   "cell_type": "code",
   "execution_count": 68,
   "id": "1b8d1265",
   "metadata": {},
   "outputs": [
    {
     "name": "stdout",
     "output_type": "stream",
     "text": [
      "(array([256.08480343, 267.80733152]), array([[ 47045.24804966, -35765.88836832],\n",
      "       [-35765.88836832,  66299.52271483]]), {'nfev': 14, 'fvec': array([16.2464279 ,  8.46201779,  5.82823383, -3.99243335, 16.61367693,\n",
      "       10.58055248, 10.55610039])}, '`ftol` termination condition is satisfied.', 2)\n",
      "(256.08480343068857+267.8073315219902j)\n",
      "[216.89916563 257.48693698]\n"
     ]
    }
   ],
   "source": [
    "# ячейка, которая считает Re и Im eps_3\n",
    "\n",
    "\n",
    "##delta = d_2[np.argsort(R_In)[0]]-d_2[np.argsort(reflect3(d_2, teta))[0]] #поправка на смещение нуля d, она оказалась = 0 после подгонки по углу, что логично (иначе невязка растёт)\n",
    "##print(delta)\n",
    "opt = scipy.optimize.curve_fit(reflect4, d_2[5:12], R_Gr[5:12], sigma = err_Gr[5:12], bounds = ([200, 200], [400, 400]), full_output = True, method = \"trf\")\n",
    "print(scipy.optimize.curve_fit(reflect4, d_2[5:12], R_Gr[5:12], sigma = err_Gr[5:12], bounds = ([200, 200], [400, 400]), full_output = True, method = \"trf\"))\n",
    "#print(scipy.optimize.curve_fit(reflect4, d_2[5:12], R_Gr[5:12], sigma = err_Gr[5:12],  full_output = True, method = \"trf\"))\n",
    "##print(scipy.optimize.curve_fit(reflect4, d_2[5:], R_Gr[5:], p0 = [-100, 300], sigma = err_Gr[5:],  bounds = ([-1000, 0], [-1, 10000]), full_output = True, method = \"trf\"))\n",
    "\n",
    "eps_3 = complex(*scipy.optimize.curve_fit(reflect4, d_2[5:12], R_Gr[5:12], sigma = err_Gr[5:12], bounds = ([200, 200], [400, 400]))[0]) #оптимизация eps_3\n",
    "print(eps_3)\n",
    "eps_3 = complex(-1, 261)\n",
    "\n",
    "#To compute one standard deviation errors on the parameters, use perr = np.sqrt(np.diag(pcov))\n",
    "print(np.sqrt(np.diag(opt[1])))"
   ]
  },
  {
   "cell_type": "code",
   "execution_count": 63,
   "id": "f3f8353f",
   "metadata": {},
   "outputs": [
    {
     "name": "stdout",
     "output_type": "stream",
     "text": [
      "0.0\n",
      "[5.400e-06 2.200e-05 3.860e-05 5.520e-05 6.350e-05 9.670e-05 1.133e-04\n",
      " 1.299e-04 1.465e-04 1.631e-04 1.797e-04 1.880e-04 2.046e-04 2.212e-04\n",
      " 2.378e-04 2.544e-04 2.710e-04 3.125e-04 3.540e-04 3.955e-04 4.370e-04\n",
      " 5.200e-04]\n"
     ]
    },
    {
     "data": {
      "image/png": "[encoded data removed]",
      "text/plain": [
       "<Figure size 432x288 with 1 Axes>"
      ]
     },
     "metadata": {
      "needs_background": "light"
     },
     "output_type": "display_data"
    }
   ],
   "source": [
    "\"\"\"#print(reflect3(d))\n",
    "\n",
    "\n",
    "\n",
    "plt.plot((d_2+delta)*10**6, reflect3(d_2, teta), '--r', label = 'Theory InSb (teta = 41)')\n",
    "#plt.plot((d_2)*10**6, reflect3(d_2, teta), '--r', label = 'Theory InSb (teta = 41)')\n",
    "\n",
    "\n",
    "#plt.plot(d_2*10**6, R_In, 'vr', label = 'InSb')\n",
    "plt.errorbar(d_2*10**6, R_In, yerr = err_In, marker = 'o', label = 'InSb')\n",
    "\n",
    "#plt.plot(d_2*10**6, R_Gr, 'vg', label = 'Graphene')\n",
    "plt.errorbar(d_2*10**6, R_Gr, yerr = err_Gr, marker = 'v', label = 'Graphene')\n",
    "\n",
    "plt.plot((d_2+delta)*10**6, reflect4(d_2, eps_3.real, eps_3.imag), '--g', label = 'Theory graphene')\n",
    "#plt.plot((d_2)*10**6, reflect4(d_2, eps_3.real, eps_3.imag), '--g', label = 'Theory graphene')\n",
    "\n",
    "#plt.errorbar(d_2, R_In, yerr = , marker='o', linestyle='none',\n",
    "#    ecolor='k', elinewidth=0.8, capsize=4, capthick=1)\n",
    "print(d_2)\n",
    "plt.legend(fontsize=9)\n",
    "plt.show()\n",
    "#print(np.argsort(reflect3(d_2, teta)))\"\"\"\n",
    "#print(reflect3(d))\n",
    "delta = d_2[np.argsort(R_In)[0]]-d_2[np.argsort(reflect3(d_2, teta))[0]]\n",
    "print(delta)\n",
    "\n",
    "plt.plot((d_2+delta)*10**6, reflect3(d_2, teta), '--r', label = 'Theory InSb (teta = 41)')\n",
    "#plt.plot((d_2)*10**6, reflect3(d_2, teta), '--r', label = 'Theory InSb (teta = 41)')\n",
    "\n",
    "\n",
    "#plt.plot(d_2*10**6, R_In, 'vr', label = 'InSb')\n",
    "plt.errorbar(d_2*10**6, R_In, yerr = err_In, marker = 'o', label = 'InSb')\n",
    "\n",
    "#plt.plot(d_2*10**6, R_Gr, 'vg', label = 'Graphene')\n",
    "plt.errorbar(d_2*10**6, R_Gr, yerr = err_Gr, marker = 'v', label = 'Graphene')\n",
    "\n",
    "plt.plot((d_2+delta)*10**6, reflect4(d_2, eps_3.real, eps_3.imag), '--g', label = 'Theory graphene')\n",
    "#plt.plot((d_2)*10**6, reflect4(d_2, eps_3.real, eps_3.imag), '--g', label = 'Theory graphene')\n",
    "\n",
    "#plt.errorbar(d_2, R_In, yerr = , marker='o', linestyle='none',\n",
    "#    ecolor='k', elinewidth=0.8, capsize=4, capthick=1)\n",
    "print(d_2)\n",
    "plt.legend(fontsize=9)\n",
    "plt.show()\n",
    "#print(np.argsort(reflect3(d_2, teta)))\n"
   ]
  },
  {
   "cell_type": "code",
   "execution_count": 65,
   "id": "5aafd68c",
   "metadata": {},
   "outputs": [
    {
     "name": "stderr",
     "output_type": "stream",
     "text": [
      "C:\\Users\\belco\\AppData\\Local\\Temp\\ipykernel_16712\\4102653590.py:21: RuntimeWarning: divide by zero encountered in cdouble_scalars\n",
      "  S3=np.array([[np.exp(-complex(0, 1)*(2*np.pi/wavelength)*kz_3*d_3)/t_34,\n",
      "C:\\Users\\belco\\AppData\\Local\\Temp\\ipykernel_16712\\4102653590.py:22: RuntimeWarning: divide by zero encountered in cdouble_scalars\n",
      "  r_34*np.exp(-complex(0, 1)*(2*np.pi/wavelength)*kz_3*d_3)/t_34],\n",
      "C:\\Users\\belco\\AppData\\Local\\Temp\\ipykernel_16712\\4102653590.py:23: RuntimeWarning: divide by zero encountered in cdouble_scalars\n",
      "  [r_34*np.exp(complex(0, 1)*(2*np.pi/wavelength)*kz_3*d_3)/t_34,\n",
      "C:\\Users\\belco\\AppData\\Local\\Temp\\ipykernel_16712\\4102653590.py:24: RuntimeWarning: divide by zero encountered in cdouble_scalars\n",
      "  np.exp(complex(0, 1)*(2*np.pi/wavelength)*kz_3*d_3)/t_34]])\n",
      "C:\\Users\\belco\\AppData\\Local\\Temp\\ipykernel_16712\\4102653590.py:28: RuntimeWarning: divide by zero encountered in cdouble_scalars\n",
      "  S2=np.array([[np.exp(-complex(0, 1)*(2*np.pi/wavelength)*kz_2*d_2[j])/t_23, r_23*np.exp(-complex(0, 1)*(2*np.pi/wavelength)*kz_2*d_2[j])/t_23],  [r_23*np.exp(complex(0, 1)*(2*np.pi/wavelength)*kz_2*d_2[j])/t_23, np.exp(complex(0, 1)*(2*np.pi/wavelength)*kz_2*d_2[j])/t_23]])\n",
      "C:\\Users\\belco\\AppData\\Local\\Temp\\ipykernel_16712\\4102653590.py:29: RuntimeWarning: invalid value encountered in matmul\n",
      "  S=S1@S2@S3\n",
      "C:\\Users\\belco\\AppData\\Local\\Temp\\ipykernel_16712\\4102653590.py:30: RuntimeWarning: invalid value encountered in cdouble_scalars\n",
      "  R += [abs(S[1][0]/S[0][0])]\n"
     ]
    },
    {
     "name": "stdout",
     "output_type": "stream",
     "text": [
      "884.853836607964\n"
     ]
    },
    {
     "data": {
      "image/png": "[encoded data removed]",
      "text/plain": [
       "<Figure size 432x288 with 1 Axes>"
      ]
     },
     "metadata": {
      "needs_background": "light"
     },
     "output_type": "display_data"
    }
   ],
   "source": [
    "# невязка без функции optimize curve\n",
    "\"\"\"a = []\n",
    "b = []\n",
    "c = []\n",
    "\n",
    "for i in range(100):\n",
    "    b.append(sum(scipy.optimize.curve_fit(reflect4, d_2, R_Gr, \n",
    "       bounds = ([200-(i+1)*10, 0], [200-i, 1000]), method = \"trf\", full_output=True)[2]['fvec']))  \"\"\" \n",
    "\n",
    "def residue(d_2, R_Gr, re, im):\n",
    "    return sum((reflect4(d_2[5:12], re, im)-R_Gr[5:12])**2/err_Gr[5:12]**2 ) #не напутать глобальные и локальные\n",
    "#fig = plt.figure()\n",
    "#ax = fig.add_subplot(1, 1, 1, projection='3d')\n",
    "\n",
    "x, y = np.meshgrid(np.linspace(-1000, 1000, 100), np.linspace(-1000, 1000, 100))\n",
    "z = x+y\n",
    "\n",
    "for i in range(100):\n",
    "    for j in range(100):\n",
    "        #z[i][j] = sum(scipy.optimize.curve_fit(reflect4, d_2, R_Gr, \n",
    "         #bounds = ([-1000+i*10, -1000+j*10], [-1000+(i+1)*10, -1000+(j+1)*10]), method = \"trf\", full_output=True)[2]['fvec']) \n",
    "        z[i][j] = residue(d_2, R_Gr, -1000+i*20, -1000+j*20)\n",
    "\n",
    "#C = plt.contour(X,Y,f(X,Y),8,colors='black')\n",
    "plt.contourf(x, y, z, levels = 50)\n",
    "plt.xlabel('Re', fontsize=16)\n",
    "plt.ylabel('Im', fontsize=16)\n",
    "print(residue(d_2, R_Gr, 256, 268))\n",
    "\n",
    "plt.show()"
   ]
  },
  {
   "cell_type": "code",
   "execution_count": 48,
   "id": "fb69ca99",
   "metadata": {},
   "outputs": [
    {
     "data": {
      "image/png": "[encoded data removed]",
      "text/plain": [
       "<Figure size 432x288 with 1 Axes>"
      ]
     },
     "metadata": {
      "needs_background": "light"
     },
     "output_type": "display_data"
    }
   ],
   "source": [
    "#print(sum(scipy.optimize.curve_fit(reflect4, d_2, R_Gr, bounds = ([-(2+1)*10, 0], [-2*10, 1000]), method = \"trf\", full_output=True)[2]['fvec']))\n",
    "a = []\n",
    "b = []\n",
    "c = []\n",
    "for i in range(100):\n",
    " #   for j in range(100):\n",
    "        a.append( scipy.optimize.curve_fit(reflect4, d_2, R_Gr, sigma = err_Gr, bounds = ([200-(i+1)*10, 299], [200-i, 300]), method = \"trf\")[0][0])\n",
    "        #c.append( scipy.optimize.curve_fit(reflect4, d_2, R_Gr, sigma = err_Gr, bounds = ([-(i+1)*10, j*10], [-i, (j+1)*10]), method = \"trf\")[0][1])\n",
    "        b.append(sum(scipy.optimize.curve_fit(reflect4, d_2, R_Gr, sigma = err_Gr, bounds = ([200-(i+1)*10, 299], [200-i, 300]), method = \"trf\", full_output=True)[2]['fvec']))     \n",
    "#eps_3 = complex(*scipy.optimize.curve_fit(reflect4, d_2[5:12], R_Gr[5:12])[0])\n",
    "#eps_3\n",
    "a = np.array(a)\n",
    "b = np.array(b)\n",
    "c = np.array(c)\n",
    "\n",
    "plt.plot(a, b)\n",
    "plt.xlabel('optimal Im e,  in limits Re[-1000, 0 с шагом 10] ', fontsize=16)\n",
    "plt.ylabel('residual values')\n",
    "plt.show()\n",
    "\n",
    "\"\"\"fig = plt.figure()\n",
    "ax = fig.add_subplot(1, 1, 1, projection='3d')\n",
    "\n",
    "\n",
    "ax.plot_surface(a, c, b)\"\"\"\n",
    "\n",
    "plt.show()\n"
   ]
  },
  {
   "cell_type": "code",
   "execution_count": 17,
   "id": "0c8dbd3d",
   "metadata": {},
   "outputs": [
    {
     "ename": "NameError",
     "evalue": "name 'delta' is not defined",
     "output_type": "error",
     "traceback": [
      "\u001b[1;31m---------------------------------------------------------------------------\u001b[0m",
      "\u001b[1;31mNameError\u001b[0m                                 Traceback (most recent call last)",
      "Input \u001b[1;32mIn [17]\u001b[0m, in \u001b[0;36m<cell line: 1>\u001b[1;34m()\u001b[0m\n\u001b[1;32m----> 1\u001b[0m d_2_axis \u001b[38;5;241m=\u001b[39m (d_2\u001b[38;5;241m+\u001b[39m\u001b[43mdelta\u001b[49m)\u001b[38;5;241m*\u001b[39m\u001b[38;5;241m10\u001b[39m\u001b[38;5;241m*\u001b[39m\u001b[38;5;241m*\u001b[39m\u001b[38;5;241m6\u001b[39m\n\u001b[0;32m      2\u001b[0m r4_axis \u001b[38;5;241m=\u001b[39m reflect4(d_2, eps_3\u001b[38;5;241m.\u001b[39mreal, eps_3\u001b[38;5;241m.\u001b[39mimag)\n\u001b[0;32m      3\u001b[0m r3_axis \u001b[38;5;241m=\u001b[39m reflect3(d_2, teta)\n",
      "\u001b[1;31mNameError\u001b[0m: name 'delta' is not defined"
     ]
    }
   ],
   "source": [
    "d_2_axis = (d_2+delta)*10**6\n",
    "r4_axis = reflect4(d_2, eps_3.real, eps_3.imag)\n",
    "r3_axis = reflect3(d_2, teta)\n",
    "print(zip(d_2_axis, r4_axis, r3_axis))\n",
    "export = open('export.txt', 'w')\n",
    "for line in zip(d_2_axis, r4_axis, r3_axis):\n",
    "    export.write(str(line)+'\\n')\n",
    "export.close()\n",
    "delta"
   ]
  },
  {
   "cell_type": "code",
   "execution_count": 25,
   "id": "5bf09a75",
   "metadata": {},
   "outputs": [
    {
     "data": {
      "text/plain": [
       "array([0.83845233, 0.7948512 , 0.74106703, 0.67505015, 0.63680683,\n",
       "       0.44431313, 0.32395124, 0.19066517, 0.05626477, 0.10706511,\n",
       "       0.24322273, 0.30828559, 0.42781319, 0.53097529, 0.61737886,\n",
       "       0.68825525, 0.74560914, 0.84390821, 0.89974454, 0.93151833,\n",
       "       0.94972699, 0.96631369])"
      ]
     },
     "execution_count": 25,
     "metadata": {},
     "output_type": "execute_result"
    }
   ],
   "source": [
    "reflect4(d_2, 1, 1)"
   ]
  },
  {
   "cell_type": "code",
   "execution_count": null,
   "id": "9b58e879",
   "metadata": {},
   "outputs": [],
   "source": []
  },
  {
   "cell_type": "code",
   "execution_count": 26,
   "id": "fb19b599",
   "metadata": {},
   "outputs": [
    {
     "ename": "NameError",
     "evalue": "name 'kz_2' is not defined",
     "output_type": "error",
     "traceback": [
      "\u001b[1;31m---------------------------------------------------------------------------\u001b[0m",
      "\u001b[1;31mNameError\u001b[0m                                 Traceback (most recent call last)",
      "Input \u001b[1;32mIn [26]\u001b[0m, in \u001b[0;36m<cell line: 2>\u001b[1;34m()\u001b[0m\n\u001b[0;32m      1\u001b[0m R \u001b[38;5;241m=\u001b[39m []\n\u001b[0;32m      2\u001b[0m \u001b[38;5;28;01mfor\u001b[39;00m j \u001b[38;5;129;01min\u001b[39;00m \u001b[38;5;28mrange\u001b[39m(\u001b[38;5;28mlen\u001b[39m(d_2)):   \u001b[38;5;66;03m#1:1:length(d_2)\u001b[39;00m\n\u001b[1;32m----> 3\u001b[0m     S2\u001b[38;5;241m=\u001b[39mnp\u001b[38;5;241m.\u001b[39marray([[np\u001b[38;5;241m.\u001b[39mexp(\u001b[38;5;241m-\u001b[39m\u001b[38;5;28mcomplex\u001b[39m(\u001b[38;5;241m0\u001b[39m, \u001b[38;5;241m1\u001b[39m)\u001b[38;5;241m*\u001b[39m(\u001b[38;5;241m2\u001b[39m\u001b[38;5;241m*\u001b[39mnp\u001b[38;5;241m.\u001b[39mpi\u001b[38;5;241m/\u001b[39mwavelength)\u001b[38;5;241m*\u001b[39m\u001b[43mkz_2\u001b[49m\u001b[38;5;241m*\u001b[39md_2[j])\u001b[38;5;241m/\u001b[39mt_23, r_23\u001b[38;5;241m*\u001b[39mnp\u001b[38;5;241m.\u001b[39mexp(\u001b[38;5;241m-\u001b[39m\u001b[38;5;28mcomplex\u001b[39m(\u001b[38;5;241m0\u001b[39m, \u001b[38;5;241m1\u001b[39m)\u001b[38;5;241m*\u001b[39m(\u001b[38;5;241m2\u001b[39m\u001b[38;5;241m*\u001b[39mnp\u001b[38;5;241m.\u001b[39mpi\u001b[38;5;241m/\u001b[39mwavelength)\u001b[38;5;241m*\u001b[39mkz_2\u001b[38;5;241m*\u001b[39md_2[j])\u001b[38;5;241m/\u001b[39mt_23],  [r_23\u001b[38;5;241m*\u001b[39mnp\u001b[38;5;241m.\u001b[39mexp(\u001b[38;5;28mcomplex\u001b[39m(\u001b[38;5;241m0\u001b[39m, \u001b[38;5;241m1\u001b[39m)\u001b[38;5;241m*\u001b[39m(\u001b[38;5;241m2\u001b[39m\u001b[38;5;241m*\u001b[39mnp\u001b[38;5;241m.\u001b[39mpi\u001b[38;5;241m/\u001b[39mwavelength)\u001b[38;5;241m*\u001b[39mkz_2\u001b[38;5;241m*\u001b[39md_2[j])\u001b[38;5;241m/\u001b[39mt_23, np\u001b[38;5;241m.\u001b[39mexp(\u001b[38;5;28mcomplex\u001b[39m(\u001b[38;5;241m0\u001b[39m, \u001b[38;5;241m1\u001b[39m)\u001b[38;5;241m*\u001b[39m(\u001b[38;5;241m2\u001b[39m\u001b[38;5;241m*\u001b[39mnp\u001b[38;5;241m.\u001b[39mpi\u001b[38;5;241m/\u001b[39mwavelength)\u001b[38;5;241m*\u001b[39mkz_2\u001b[38;5;241m*\u001b[39md_2[j])\u001b[38;5;241m/\u001b[39mt_23]])\n\u001b[0;32m      4\u001b[0m     S\u001b[38;5;241m=\u001b[39mS1\u001b[38;5;129m@S2\u001b[39m\u001b[38;5;129m@S3\u001b[39m\n\u001b[0;32m      5\u001b[0m     R \u001b[38;5;241m+\u001b[39m\u001b[38;5;241m=\u001b[39m [\u001b[38;5;28mabs\u001b[39m(S[\u001b[38;5;241m1\u001b[39m][\u001b[38;5;241m0\u001b[39m]\u001b[38;5;241m/\u001b[39mS[\u001b[38;5;241m0\u001b[39m][\u001b[38;5;241m0\u001b[39m])]\n",
      "\u001b[1;31mNameError\u001b[0m: name 'kz_2' is not defined"
     ]
    }
   ],
   "source": [
    "R = []\n",
    "for j in range(len(d_2)):   #1:1:length(d_2)\n",
    "    S2=np.array([[np.exp(-complex(0, 1)*(2*np.pi/wavelength)*kz_2*d_2[j])/t_23, r_23*np.exp(-complex(0, 1)*(2*np.pi/wavelength)*kz_2*d_2[j])/t_23],  [r_23*np.exp(complex(0, 1)*(2*np.pi/wavelength)*kz_2*d_2[j])/t_23, np.exp(complex(0, 1)*(2*np.pi/wavelength)*kz_2*d_2[j])/t_23]])\n",
    "    S=S1@S2@S3\n",
    "    R += [abs(S[1][0]/S[0][0])]\n",
    "\n",
    "\n",
    "plt.plot((d_2-d_3)*10**6, R)\n",
    "\n",
    "\n",
    "#Data=np.array([(d_2-d_3)*10**6, R])\n",
    "\n"
   ]
  },
  {
   "cell_type": "code",
   "execution_count": 90,
   "id": "761874d9",
   "metadata": {},
   "outputs": [
    {
     "ename": "NameError",
     "evalue": "name 'e1' is not defined",
     "output_type": "error",
     "traceback": [
      "\u001b[1;31m---------------------------------------------------------------------------\u001b[0m",
      "\u001b[1;31mNameError\u001b[0m                                 Traceback (most recent call last)",
      "Input \u001b[1;32mIn [90]\u001b[0m, in \u001b[0;36m<cell line: 2>\u001b[1;34m()\u001b[0m\n\u001b[0;32m      1\u001b[0m inc_angle \u001b[38;5;241m=\u001b[39m \u001b[38;5;241m40\u001b[39m\u001b[38;5;241m*\u001b[39m\u001b[38;5;241m2\u001b[39m\u001b[38;5;241m*\u001b[39mmath\u001b[38;5;241m.\u001b[39mpi\u001b[38;5;241m/\u001b[39m\u001b[38;5;241m360\u001b[39m\n\u001b[1;32m----> 2\u001b[0m angle \u001b[38;5;241m=\u001b[39m np\u001b[38;5;241m.\u001b[39mpi\u001b[38;5;241m/\u001b[39m\u001b[38;5;241m4\u001b[39m\u001b[38;5;241m-\u001b[39mnp\u001b[38;5;241m.\u001b[39marcsin(np\u001b[38;5;241m.\u001b[39msin(np\u001b[38;5;241m.\u001b[39mpi\u001b[38;5;241m/\u001b[39m\u001b[38;5;241m4\u001b[39m\u001b[38;5;241m-\u001b[39minc_angle)\u001b[38;5;241m/\u001b[39mnp\u001b[38;5;241m.\u001b[39msqrt(\u001b[43me1\u001b[49m))\n\u001b[0;32m      3\u001b[0m e1 \u001b[38;5;241m=\u001b[39m \u001b[38;5;241m1\u001b[39m\n\u001b[0;32m      4\u001b[0m e2 \u001b[38;5;241m=\u001b[39m \u001b[38;5;241m1\u001b[39m\n",
      "\u001b[1;31mNameError\u001b[0m: name 'e1' is not defined"
     ]
    }
   ],
   "source": [
    "inc_angle = 40*2*math.pi/360\n",
    "angle = np.pi/4-np.arcsin(np.sin(np.pi/4-inc_angle)/np.sqrt(e1))\n",
    "e1 = 1\n",
    "e2 = 1\n",
    "\n",
    "w_len = 197*pow(10, -6)\n",
    "def kx(e3):\n",
    "    return 2*np.pi/w_len/np.sqrt(e2)*np.sqrt(e2*e3/(e2+e3))\n",
    "\n",
    "def kz1(e3):\n",
    "    return kx(e3)*np.sqrt(e1-e1*pow(np.sin(angle), 2))\n",
    "\n",
    "def kz2(e3):\n",
    "    return kx(e3)*np.sqrt(e2-e1*pow(np.sin(angle), 2))\n",
    "\n",
    "def kz3(e3):\n",
    "    return kx(e3)*np.sqrt(e3-e1*pow(np.sin(angle), 2))\n",
    "\n",
    "def optim(e3):\n",
    "    return abs(d  + 0.5*kz2*complex(0, 1) * np.log(-(kz1-e1*kz2)(kz2*e3+kz3(e3))/(kz2*e3-kz3(e3))/(kz1+e1*kz2)  ))\n",
    "\n"
   ]
  },
  {
   "cell_type": "code",
   "execution_count": 152,
   "id": "c8af4079",
   "metadata": {},
   "outputs": [
    {
     "name": "stdout",
     "output_type": "stream",
     "text": [
      "Help on class complex in module builtins:\n",
      "\n",
      "class complex(object)\n",
      " |  complex(real=0, imag=0)\n",
      " |  \n",
      " |  Create a complex number from a real part and an optional imaginary part.\n",
      " |  \n",
      " |  This is equivalent to (real + imag*1j) where imag defaults to 0.\n",
      " |  \n",
      " |  Methods defined here:\n",
      " |  \n",
      " |  __abs__(self, /)\n",
      " |      abs(self)\n",
      " |  \n",
      " |  __add__(self, value, /)\n",
      " |      Return self+value.\n",
      " |  \n",
      " |  __bool__(self, /)\n",
      " |      True if self else False\n",
      " |  \n",
      " |  __eq__(self, value, /)\n",
      " |      Return self==value.\n",
      " |  \n",
      " |  __format__(self, format_spec, /)\n",
      " |      Convert to a string according to format_spec.\n",
      " |  \n",
      " |  __ge__(self, value, /)\n",
      " |      Return self>=value.\n",
      " |  \n",
      " |  __getattribute__(self, name, /)\n",
      " |      Return getattr(self, name).\n",
      " |  \n",
      " |  __getnewargs__(self, /)\n",
      " |  \n",
      " |  __gt__(self, value, /)\n",
      " |      Return self>value.\n",
      " |  \n",
      " |  __hash__(self, /)\n",
      " |      Return hash(self).\n",
      " |  \n",
      " |  __le__(self, value, /)\n",
      " |      Return self<=value.\n",
      " |  \n",
      " |  __lt__(self, value, /)\n",
      " |      Return self<value.\n",
      " |  \n",
      " |  __mul__(self, value, /)\n",
      " |      Return self*value.\n",
      " |  \n",
      " |  __ne__(self, value, /)\n",
      " |      Return self!=value.\n",
      " |  \n",
      " |  __neg__(self, /)\n",
      " |      -self\n",
      " |  \n",
      " |  __pos__(self, /)\n",
      " |      +self\n",
      " |  \n",
      " |  __pow__(self, value, mod=None, /)\n",
      " |      Return pow(self, value, mod).\n",
      " |  \n",
      " |  __radd__(self, value, /)\n",
      " |      Return value+self.\n",
      " |  \n",
      " |  __repr__(self, /)\n",
      " |      Return repr(self).\n",
      " |  \n",
      " |  __rmul__(self, value, /)\n",
      " |      Return value*self.\n",
      " |  \n",
      " |  __rpow__(self, value, mod=None, /)\n",
      " |      Return pow(value, self, mod).\n",
      " |  \n",
      " |  __rsub__(self, value, /)\n",
      " |      Return value-self.\n",
      " |  \n",
      " |  __rtruediv__(self, value, /)\n",
      " |      Return value/self.\n",
      " |  \n",
      " |  __sub__(self, value, /)\n",
      " |      Return self-value.\n",
      " |  \n",
      " |  __truediv__(self, value, /)\n",
      " |      Return self/value.\n",
      " |  \n",
      " |  conjugate(self, /)\n",
      " |      Return the complex conjugate of its argument. (3-4j).conjugate() == 3+4j.\n",
      " |  \n",
      " |  ----------------------------------------------------------------------\n",
      " |  Static methods defined here:\n",
      " |  \n",
      " |  __new__(*args, **kwargs) from builtins.type\n",
      " |      Create and return a new object.  See help(type) for accurate signature.\n",
      " |  \n",
      " |  ----------------------------------------------------------------------\n",
      " |  Data descriptors defined here:\n",
      " |  \n",
      " |  imag\n",
      " |      the imaginary part of a complex number\n",
      " |  \n",
      " |  real\n",
      " |      the real part of a complex number\n",
      "\n"
     ]
    }
   ],
   "source": [
    "help(\"complex\")"
   ]
  }
 ],
 "metadata": {
  "kernelspec": {
   "display_name": "Python 3 (ipykernel)",
   "language": "python",
   "name": "python3"
  },
  "language_info": {
   "codemirror_mode": {
    "name": "ipython",
    "version": 3
   },
   "file_extension": ".py",
   "mimetype": "text/x-python",
   "name": "python",
   "nbconvert_exporter": "python",
   "pygments_lexer": "ipython3",
   "version": "3.10.4"
  }
 },
 "nbformat": 4,
 "nbformat_minor": 5
}
