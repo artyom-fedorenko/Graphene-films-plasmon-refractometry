{
 "cells": [
  {
   "cell_type": "code",
   "execution_count": 2,
   "id": "e3c7db1c",
   "metadata": {},
   "outputs": [],
   "source": [
    "import numpy as np\n",
    "import scipy \n",
    "import math\n",
    "import matplotlib.pyplot as plt"
   ]
  },
  {
   "cell_type": "code",
   "execution_count": 9,
   "id": "c024497f",
   "metadata": {},
   "outputs": [],
   "source": [
    "n_1=complex(1.531, -0.002) # комплексный показатель преломления призмы (Zeonex)\n",
    "eps_1=n_1**2 # диэлектрическая проницаемость призмы (Zeonex)\n",
    "eps_2=1 # диэлектрическая проницаемость воздуха\n",
    "#eps_4 = complex(-18.474508935284483+0.006568625288807081j) по Друде-Лоренцу\n",
    "eps_4=complex(-17.3, 7.12) #InSb из telegram\n",
    "#teta_0=41.0*np.pi/180 #угол падения на призму ??????\n",
    "#teta_0=40.9*np.pi/180  #угол падения на призму ??????\n",
    "#teta = np.pi/4-np.arcsin(np.sin(np.pi/4-teta_0)/n_1.real) #угол падения на выходе из призмы \n",
    "#teta = 42.16*np.pi/180 #файл 3 слоя\n",
    "wavelength=197*10**(-6)\n",
    "d_3 = 17*10**(-9) # толщина графена \n",
    "\n",
    "\n"
   ]
  },
  {
   "cell_type": "code",
   "execution_count": 3,
   "id": "5fa4ac0e",
   "metadata": {},
   "outputs": [],
   "source": [
    "file = open(\"table.txt\", \"r\").read()"
   ]
  },
  {
   "cell_type": "code",
   "execution_count": 4,
   "id": "4062b509",
   "metadata": {},
   "outputs": [
    {
     "data": {
      "text/plain": [
       "'0\\t45\\t30\\n100\\t43\\t30\\n200\\t43\\t29\\n300\\t41.5\\t28\\n400\\t41\\t27\\n500\\t40\\t24\\n600\\t38\\t25\\n700\\t38\\t24\\n800\\t38\\t21\\n900\\t37\\t23\\n1000\\t35\\t22\\n1100\\t35\\t21\\n1200\\t32\\t20\\n1300\\t26\\t19\\n1400\\t26\\t18\\n1500\\t21\\t18\\n1600\\t20\\t18\\n1700\\t17\\t19\\n1800\\t17\\t20\\n1900\\t18\\t20\\n2000\\t17\\t22\\n2100\\t18\\t21\\n2200\\t22\\t23\\n2300\\t23\\t26\\n2400\\t26\\t28\\n2500\\t30\\t29\\n2600\\t34\\t33\\n2700\\t37\\t36\\n2800\\t39\\t42\\n2900\\t43\\t44\\n3000\\t47\\t45\\n3100\\t48\\t47\\n3200\\t51\\t51\\n3300\\t57\\t55\\n3400\\t59\\t60\\n3500\\t59\\t60\\n4000\\t71\\t67\\n4500\\t73\\t74\\n5000\\t75\\t74\\n5500\\t81\\t78\\n6000\\t82\\t76\\n6500\\t81\\t77\\n7000\\t82\\t79'"
      ]
     },
     "execution_count": 4,
     "metadata": {},
     "output_type": "execute_result"
    }
   ],
   "source": [
    "file"
   ]
  },
  {
   "cell_type": "code",
   "execution_count": 17,
   "id": "a22ee287",
   "metadata": {},
   "outputs": [
    {
     "data": {
      "text/plain": [
       "array([0.3       , 0.3       , 0.28571429, 0.27142857, 0.25714286,\n",
       "       0.21428571, 0.22857143, 0.21428571, 0.17142857, 0.2       ,\n",
       "       0.18571429, 0.17142857, 0.15714286, 0.14285714, 0.12857143,\n",
       "       0.12857143, 0.12857143, 0.14285714, 0.15714286, 0.15714286,\n",
       "       0.18571429, 0.17142857, 0.2       , 0.24285714, 0.27142857,\n",
       "       0.28571429, 0.34285714, 0.38571429, 0.47142857, 0.5       ,\n",
       "       0.51428571, 0.54285714, 0.6       , 0.65714286, 0.72857143,\n",
       "       0.72857143, 0.82857143, 0.92857143, 0.92857143, 0.98571429,\n",
       "       0.95714286, 0.97142857, 1.        ])"
      ]
     },
     "execution_count": 17,
     "metadata": {},
     "output_type": "execute_result"
    },
    {
     "data": {
      "image/png": "[encoded data removed]",
      "text/plain": [
       "<Figure size 432x288 with 1 Axes>"
      ]
     },
     "metadata": {
      "needs_background": "light"
     },
     "output_type": "display_data"
    }
   ],
   "source": [
    "def string_to_np_array(input_string):\n",
    "    divisions = input_string.split('\\n')\n",
    "    result_2d_list = np.array([list(map(float, division.split('\\t'))) for division in divisions])\n",
    "    return result_2d_list\n",
    "Data = string_to_np_array(file)\n",
    "d_2 = Data[::, 0]*83*10**(-9)  #Шкала гониометра\n",
    "R_In = Data[::, 1]\n",
    "noise_In = 12\n",
    "R_Gr = Data[::, 2]\n",
    "noise_Gr = 9\n",
    "R_In = (R_In - noise_In)/(R_In[-1] - noise_In)\n",
    "R_Gr = (R_Gr - noise_Gr)/(R_Gr[-1] - noise_Gr)\n",
    "err_Gr = R_Gr*0.05\n",
    "plt.plot(d_2, R_In)\n",
    "plt.plot(d_2, R_Gr)\n",
    "\n",
    "d_min = d_2[19] #экспериментальный минимум\n",
    "R_Gr"
   ]
  },
  {
   "cell_type": "code",
   "execution_count": 6,
   "id": "332943fb",
   "metadata": {},
   "outputs": [
    {
     "ename": "SyntaxError",
     "evalue": "incomplete input (355613558.py, line 27)",
     "output_type": "error",
     "traceback": [
      "\u001b[1;36m  Input \u001b[1;32mIn [6]\u001b[1;36m\u001b[0m\n\u001b[1;33m    # plot (f, real(eps), f, imag(eps)) \"\"\"\"\"\"\u001b[0m\n\u001b[1;37m                             ^\u001b[0m\n\u001b[1;31mSyntaxError\u001b[0m\u001b[1;31m:\u001b[0m incomplete input\n"
     ]
    }
   ],
   "source": [
    "\n",
    "\n",
    "\"\"\"\"#Параметры InSb в модели Друде Лоренца\n",
    "wp=0.578*10**14 #плазменная частота (рад/с)\n",
    "gp=1/5.16*10**3  #частота столкновений (рад/с)\n",
    "wl=3.4*10**13 #частота Лоренца (рад/с)\n",
    "gl=1/3*10**12 #Лоренцева частота столкновений (рад/с)\n",
    "Al=2.02 #Амплитуда в модели Лоренца\n",
    "eps0=15.86 #диэлектрическая проницаемость на бесконечности\n",
    "\n",
    "wavelength=197*10**(-6)  #длина волны излучения\n",
    "f=3*10**8/wavelength  #частота излучения\n",
    "w=6.28*f  #круговая частота\n",
    "\n",
    "#Модель Друде-Лоренца для проницаемости InSb\n",
    "eps_4=eps0-wp**2/complex(w**2, gp*w)+Al*wl**2/complex(wl**2-w**2, -gl*w) \n",
    "print(eps_4)\n",
    "d_2=np.linspace(0*10**(-6), 450*10**(-6), 450)  #величина зазора между призмой и InSb\n",
    "d_3=4.7*10**(-6) \n",
    "teta=42.21*np.pi/180  #угол падения в призме\n",
    "\n",
    "# f=1.5*10**12:0.01*10**12:2*10**12 \n",
    "# w=6.28*f \n",
    "# \n",
    "# #Модель Друде-Лоренца для проницаемости InSb\n",
    "# for j=1:1:length(w)\n",
    "#     eps(j)=eps0-wp**2/(w(j)**2+i*gp*w(j))+Al*wl**2/(wl**2-w(j)**2-i*gl*w(j)) \n",
    "# end \n",
    "# plot (f, real(eps), f, imag(eps)) \"\"\"\"\"\""
   ]
  },
  {
   "cell_type": "code",
   "execution_count": 7,
   "id": "77328164",
   "metadata": {},
   "outputs": [],
   "source": [
    "#угол не подгоняется\n",
    "\"\"\"\"def reflect3(d):\n",
    "    \n",
    "    kz_1=np.sqrt(eps_1)*np.cos(teta)\n",
    "    kz_2=np.sqrt(eps_2-eps_1*np.sin(teta)**2)\n",
    "    kz_3=np.sqrt(eps_4-eps_1*np.sin(teta)**2)\n",
    "    \n",
    "#Коэффициенты отражения\n",
    "    r_12=(eps_2*kz_1-eps_1*kz_2)/(eps_2*kz_1+eps_1*kz_2)\n",
    "    r_23=(eps_4*kz_2-eps_2*kz_3)/(eps_4*kz_2+eps_2*kz_3)\n",
    "\n",
    "#Коэффициенты пропускания\n",
    "    t_12=2*kz_1*np.sqrt(eps_1*eps_2)/(eps_2*kz_1+eps_1*kz_2) #???\n",
    "    t_23=2*kz_2*np.sqrt(eps_2*eps_4)/(eps_4*kz_2+eps_2*kz_3)\n",
    "   \n",
    " #Матрица пропускания\n",
    "    S1=np.array([[1/t_12, r_12/t_12], [r_12/t_12, 1/t_12]])    \n",
    "    \n",
    "#Расчёт R    \n",
    "    R = []\n",
    "    for j in range(len(d)):   #1:1:length(d_2)\n",
    "        S2=np.array([[np.exp(-complex(0, 1)*(2*np.pi/wavelength)*kz_2*d[j])/t_23, \n",
    "         r_23*np.exp(-complex(0, 1)*(2*np.pi/wavelength)*kz_2*d[j])/t_23],  \n",
    "         [r_23*np.exp(complex(0, 1)*(2*np.pi/wavelength)*kz_2*d[j])/t_23, \n",
    "         np.exp(complex(0, 1)*(2*np.pi/wavelength)*kz_2*d[j])/t_23]])\n",
    "        S=S1@S2\n",
    "        R += [abs(S[1][0]/S[0][0])]\n",
    "    print(S)\n",
    "    return(np.array(R))\n",
    "\"\"\"\n",
    "\n",
    "#угол подгоняется\n",
    "def reflect3(d, angle):\n",
    "    \n",
    "    kz_1=np.sqrt(eps_1)*np.cos(angle)\n",
    "    kz_2=np.sqrt(eps_2-eps_1*np.sin(angle)**2)\n",
    "    kz_3=np.sqrt(eps_4-eps_1*np.sin(angle)**2)\n",
    "    \n",
    "#Коэффициенты отражения\n",
    "    r_12=(eps_2*kz_1-eps_1*kz_2)/(eps_2*kz_1+eps_1*kz_2)\n",
    "    r_23=(eps_4*kz_2-eps_2*kz_3)/(eps_4*kz_2+eps_2*kz_3)\n",
    "\n",
    "#Коэффициенты пропускания\n",
    "    t_12=2*kz_1*np.sqrt(eps_1*eps_2)/(eps_2*kz_1+eps_1*kz_2) #???\n",
    "    t_23=2*kz_2*np.sqrt(eps_2*eps_4)/(eps_4*kz_2+eps_2*kz_3)\n",
    "   \n",
    " #Матрица пропускания\n",
    "    S1=np.array([[1/t_12, r_12/t_12], [r_12/t_12, 1/t_12]])    \n",
    "    \n",
    "#Расчёт R    \n",
    "    R = []\n",
    "    for j in range(len(d)):   #1:1:length(d_2)\n",
    "        S2=np.array([[np.exp(-complex(0, 1)*(2*np.pi/wavelength)*kz_2*d_2[j])/t_23, r_23*np.exp(-complex(0, 1)*(2*np.pi/wavelength)*kz_2*d_2[j])/t_23],  [r_23*np.exp(complex(0, 1)*(2*np.pi/wavelength)*kz_2*d_2[j])/t_23, np.exp(complex(0, 1)*(2*np.pi/wavelength)*kz_2*d_2[j])/t_23]])\n",
    "        S=S1@S2\n",
    "        R += [abs(S[1][0]/S[0][0])]\n",
    "    return(np.array(R))\n",
    "\n"
   ]
  },
  {
   "cell_type": "code",
   "execution_count": 8,
   "id": "f28ca599",
   "metadata": {},
   "outputs": [
    {
     "name": "stdout",
     "output_type": "stream",
     "text": [
      "0.7291350762966604\n"
     ]
    },
    {
     "data": {
      "text/plain": [
       "array([0.85150883, 0.83216697, 0.81068391, 0.78684221, 0.76041263,\n",
       "       0.73115807, 0.69883977, 0.66322618, 0.6241053 , 0.58130105,\n",
       "       0.53469427, 0.48424896, 0.43004509, 0.37232183, 0.31154407,\n",
       "       0.24853816, 0.1848787 , 0.12440554, 0.08060122, 0.08732733,\n",
       "       0.1369525 , 0.19822271, 0.26119429, 0.32283834, 0.38183369,\n",
       "       0.43747883, 0.48939357, 0.53740562, 0.58149039, 0.62172997,\n",
       "       0.65828136, 0.6913511 , 0.72117517, 0.74800352, 0.77208862,\n",
       "       0.79367732, 0.87189665, 0.91640443, 0.94172896, 0.95618851,\n",
       "       0.9644717 , 0.96922764, 0.97196203])"
      ]
     },
     "execution_count": 8,
     "metadata": {},
     "output_type": "execute_result"
    }
   ],
   "source": [
    "teta = scipy.optimize.curve_fit(reflect3, d_2, R_In)[0][0]\n",
    "print(teta)\n",
    "reflect3(d_2, teta)\n",
    "#reflect4(d_2, R_Gr)\n",
    "#print(scipy.optimize.curve_fit(reflect4, d_2, R_Gr))\n",
    "\n",
    "#eps_3 = complex(*scipy.optimize.curve_fit(reflect4, d_2, R_Gr)[0])"
   ]
  },
  {
   "cell_type": "code",
   "execution_count": 9,
   "id": "650ff9c7",
   "metadata": {},
   "outputs": [],
   "source": [
    "def reflect4(d_2, e3_re, e3_im):\n",
    "    eps_3 = complex(e3_re, e3_im)\n",
    "    kz_1=np.sqrt(eps_1)*np.cos(teta)\n",
    "    kz_2=np.sqrt(eps_2-eps_1*np.sin(teta)**2)\n",
    "    kz_3=np.sqrt(eps_3-eps_1*np.sin(teta)**2)\n",
    "    kz_4=np.sqrt(eps_4-eps_1*np.sin(teta)**2)\n",
    "\n",
    "\n",
    "#Коэффициенты отражения\n",
    "    r_12=(eps_2*kz_1-eps_1*kz_2)/(eps_2*kz_1+eps_1*kz_2)\n",
    "    r_23=(eps_3*kz_2-eps_2*kz_3)/(eps_3*kz_2+eps_2*kz_3)\n",
    "    r_34=(eps_4*kz_3-eps_3*kz_4)/(eps_4*kz_3+eps_3*kz_4)\n",
    "\n",
    "#Коэффициенты пропускания\n",
    "    t_12=2*kz_1*np.sqrt(eps_1*eps_2)/(eps_2*kz_1+eps_1*kz_2)\n",
    "    t_23=2*kz_2*np.sqrt(eps_2*eps_3)/(eps_3*kz_2+eps_2*kz_3)\n",
    "    t_34=2*kz_3*np.sqrt(eps_3*eps_4)/(eps_4*kz_3+eps_3*kz_4)\n",
    "\n",
    "#Матрица преобразования\n",
    "    S1=np.array([[1/t_12, r_12/t_12], [r_12/t_12, 1/t_12]])\n",
    "    S3=np.array([[np.exp(-complex(0, 1)*(2*np.pi/wavelength)*kz_3*d_3)/t_34,\n",
    "     r_34*np.exp(-complex(0, 1)*(2*np.pi/wavelength)*kz_3*d_3)/t_34],\n",
    "     [r_34*np.exp(complex(0, 1)*(2*np.pi/wavelength)*kz_3*d_3)/t_34, \n",
    "     np.exp(complex(0, 1)*(2*np.pi/wavelength)*kz_3*d_3)/t_34]])\n",
    "    \n",
    "    R = []\n",
    "    for j in range(len(d_2)):   #1:1:length(d_2)\n",
    "        S2=np.array([[np.exp(-complex(0, 1)*(2*np.pi/wavelength)*kz_2*d_2[j])/t_23, r_23*np.exp(-complex(0, 1)*(2*np.pi/wavelength)*kz_2*d_2[j])/t_23],  [r_23*np.exp(complex(0, 1)*(2*np.pi/wavelength)*kz_2*d_2[j])/t_23, np.exp(complex(0, 1)*(2*np.pi/wavelength)*kz_2*d_2[j])/t_23]])\n",
    "        S=S1@S2@S3\n",
    "        R += [abs(S[1][0]/S[0][0])]\n",
    "    \n",
    "    return np.array(R)"
   ]
  },
  {
   "cell_type": "code",
   "execution_count": 10,
   "id": "1cb32b68",
   "metadata": {},
   "outputs": [
    {
     "data": {
      "text/plain": [
       "array([2237.52151463, 1877.64043186, 1577.73952955, 1323.97722759,\n",
       "       1106.46668306, 1032.70223752,  968.15834768, 1012.45317404,\n",
       "       1051.82635303,  996.46707129, 1118.76075731,  983.5259405 ,\n",
       "       1095.29025192, 1272.16942303, 1362.59323006, 1376.9363167 ,\n",
       "       1588.77267311, 1721.17039587, 2028.52225227, 2077.2746157 ])"
      ]
     },
     "execution_count": 10,
     "metadata": {},
     "output_type": "execute_result"
    }
   ],
   "source": [
    "R_Gr[10:30]/d_2[10:30]"
   ]
  },
  {
   "cell_type": "code",
   "execution_count": 21,
   "id": "1b8d1265",
   "metadata": {},
   "outputs": [
    {
     "name": "stdout",
     "output_type": "stream",
     "text": [
      "(array([367.37626636, 465.23085036]), array([[ 41750.66720184, -18966.19543077],\n",
      "       [-18966.19543077,  57362.84263983]]), {'nfev': 11, 'fvec': array([24.77755656, 21.85016741, 18.08592376, 13.40257465,  7.87099537,\n",
      "       -0.24762576, -4.69812823, -4.02962599,  0.49129431,  7.81163714,\n",
      "        9.97553501, 19.35727818, 19.407651  , 16.87378923, 16.69154062,\n",
      "       18.11415306, 14.25921842, 12.48298077,  8.08886618,  7.77597075])}, '`ftol` termination condition is satisfied.', 2)\n"
     ]
    }
   ],
   "source": [
    "print(scipy.optimize.curve_fit(reflect4, d_2[10:30], R_Gr[10:30], sigma = err_Gr[10:30], bounds = ([20, 100], [400, 500]), full_output = True, method = \"trf\"))\n",
    "eps_3 = complex(*scipy.optimize.curve_fit(reflect4, d_2[10:30], R_Gr[10:30], sigma = err_Gr[10:30], bounds = ([20, 100], [400, 500]), full_output = True, method = \"trf\")[0])\n"
   ]
  },
  {
   "cell_type": "code",
   "execution_count": 12,
   "id": "3477a4b9",
   "metadata": {},
   "outputs": [
    {
     "data": {
      "image/png": "[encoded data removed]",
      "text/plain": [
       "<Figure size 432x288 with 1 Axes>"
      ]
     },
     "metadata": {
      "needs_background": "light"
     },
     "output_type": "display_data"
    },
    {
     "name": "stdout",
     "output_type": "stream",
     "text": [
      "[0.000e+00 8.300e-06 1.660e-05 2.490e-05 3.320e-05 4.150e-05 4.980e-05\n",
      " 5.810e-05 6.640e-05 7.470e-05 8.300e-05 9.130e-05 9.960e-05 1.079e-04\n",
      " 1.162e-04 1.245e-04 1.328e-04 1.411e-04 1.494e-04 1.577e-04 1.660e-04\n",
      " 1.743e-04 1.826e-04 1.909e-04 1.992e-04 2.075e-04 2.158e-04 2.241e-04\n",
      " 2.324e-04 2.407e-04 2.490e-04 2.573e-04 2.656e-04 2.739e-04 2.822e-04\n",
      " 2.905e-04 3.320e-04 3.735e-04 4.150e-04 4.565e-04 4.980e-04 5.395e-04\n",
      " 5.810e-04]\n"
     ]
    }
   ],
   "source": [
    "#print(reflect3(d))\n",
    "delta = d_2[np.argsort(R_In)[0]]-d_2[np.argsort(reflect3(d_2, teta))[0]]\n",
    "plt.plot((d_2+delta)*10**6, reflect3(d_2, teta), '--r', label = 'Theory InSb (teta = 41)')\n",
    "plt.plot(d_2*10**6, R_In, 'vr', label = 'InSb')\n",
    "plt.plot(d_2*10**6, R_Gr, 'vg', label = 'Graphene')\n",
    "plt.plot((d_2+delta)*10**6, reflect4(d_2, eps_3.real, eps_3.imag), '--g', label = 'Theory graphene')\n",
    "\n",
    "#plt.errorbar(d_2, R_In, yerr=0.1, marker='o', linestyle='none',\n",
    "#    ecolor='k', elinewidth=0.8, capsize=4, capthick=1)\n",
    "\n",
    "plt.legend(fontsize=9)\n",
    "plt.show()\n",
    "print(d_2)"
   ]
  },
  {
   "cell_type": "code",
   "execution_count": 15,
   "id": "4b4dafde",
   "metadata": {},
   "outputs": [
    {
     "name": "stdout",
     "output_type": "stream",
     "text": [
      "<zip object at 0x0000016566772C00>\n"
     ]
    },
    {
     "data": {
      "text/plain": [
       "1.6600000000000024e-05"
      ]
     },
     "execution_count": 15,
     "metadata": {},
     "output_type": "execute_result"
    }
   ],
   "source": [
    "d_2_axis = (d_2+delta)*10**6\n",
    "r4_axis = reflect4(d_2, eps_3.real, eps_3.imag)\n",
    "r3_axis = reflect3(d_2, teta)\n",
    "print(zip(d_2_axis, r4_axis, r3_axis))\n",
    "export = open('export_non_orient.txt', 'w')\n",
    "for line in zip(d_2_axis, R_Gr, R_In, r4_axis, r3_axis):\n",
    "    export.write(str(line)+'\\n')\n",
    "export.close()\n",
    "delta"
   ]
  },
  {
   "cell_type": "code",
   "execution_count": 379,
   "id": "5bf09a75",
   "metadata": {},
   "outputs": [
    {
     "data": {
      "text/plain": [
       "array([0.85064979, 0.83120589, 0.80960862, 0.78563938, 0.75906778,\n",
       "       0.72965576, 0.69716378, 0.66135997, 0.62203258, 0.57900658,\n",
       "       0.5321649 , 0.48147495, 0.42702163, 0.36905094, 0.30803743,\n",
       "       0.24482382, 0.18102645, 0.12066615, 0.0782531 , 0.08843798,\n",
       "       0.13969973, 0.20145972, 0.26456569, 0.3261949 , 0.38509492,\n",
       "       0.4405959 , 0.49233638, 0.54015688, 0.58404219, 0.62408135,\n",
       "       0.66043643, 0.69331754, 0.722963  , 0.74962417, 0.7735542 ,\n",
       "       0.79500013, 0.87267512, 0.91685676, 0.94199109, 0.95634045,\n",
       "       0.96455984, 0.9692788 , 0.97199174])"
      ]
     },
     "execution_count": 379,
     "metadata": {},
     "output_type": "execute_result"
    }
   ],
   "source": [
    "reflect4(d_2, 1, 1)"
   ]
  },
  {
   "cell_type": "code",
   "execution_count": 380,
   "id": "9b58e879",
   "metadata": {},
   "outputs": [
    {
     "name": "stdout",
     "output_type": "stream",
     "text": [
      "(array([0.0010253 , 0.01462808]), array([[ 5.72429910e-05, -1.10468829e-05],\n",
      "       [-1.10468829e-05,  2.27364674e-05]]))\n"
     ]
    }
   ],
   "source": []
  },
  {
   "cell_type": "code",
   "execution_count": 64,
   "id": "fb19b599",
   "metadata": {},
   "outputs": [
    {
     "ename": "NameError",
     "evalue": "name 'kz_2' is not defined",
     "output_type": "error",
     "traceback": [
      "\u001b[1;31m---------------------------------------------------------------------------\u001b[0m",
      "\u001b[1;31mNameError\u001b[0m                                 Traceback (most recent call last)",
      "Input \u001b[1;32mIn [64]\u001b[0m, in \u001b[0;36m<cell line: 2>\u001b[1;34m()\u001b[0m\n\u001b[0;32m      1\u001b[0m R \u001b[38;5;241m=\u001b[39m []\n\u001b[0;32m      2\u001b[0m \u001b[38;5;28;01mfor\u001b[39;00m j \u001b[38;5;129;01min\u001b[39;00m \u001b[38;5;28mrange\u001b[39m(\u001b[38;5;28mlen\u001b[39m(d_2)):   \u001b[38;5;66;03m#1:1:length(d_2)\u001b[39;00m\n\u001b[1;32m----> 3\u001b[0m     S2\u001b[38;5;241m=\u001b[39mnp\u001b[38;5;241m.\u001b[39marray([[np\u001b[38;5;241m.\u001b[39mexp(\u001b[38;5;241m-\u001b[39m\u001b[38;5;28mcomplex\u001b[39m(\u001b[38;5;241m0\u001b[39m, \u001b[38;5;241m1\u001b[39m)\u001b[38;5;241m*\u001b[39m(\u001b[38;5;241m2\u001b[39m\u001b[38;5;241m*\u001b[39mnp\u001b[38;5;241m.\u001b[39mpi\u001b[38;5;241m/\u001b[39mwavelength)\u001b[38;5;241m*\u001b[39m\u001b[43mkz_2\u001b[49m\u001b[38;5;241m*\u001b[39md_2[j])\u001b[38;5;241m/\u001b[39mt_23, r_23\u001b[38;5;241m*\u001b[39mnp\u001b[38;5;241m.\u001b[39mexp(\u001b[38;5;241m-\u001b[39m\u001b[38;5;28mcomplex\u001b[39m(\u001b[38;5;241m0\u001b[39m, \u001b[38;5;241m1\u001b[39m)\u001b[38;5;241m*\u001b[39m(\u001b[38;5;241m2\u001b[39m\u001b[38;5;241m*\u001b[39mnp\u001b[38;5;241m.\u001b[39mpi\u001b[38;5;241m/\u001b[39mwavelength)\u001b[38;5;241m*\u001b[39mkz_2\u001b[38;5;241m*\u001b[39md_2[j])\u001b[38;5;241m/\u001b[39mt_23],  [r_23\u001b[38;5;241m*\u001b[39mnp\u001b[38;5;241m.\u001b[39mexp(\u001b[38;5;28mcomplex\u001b[39m(\u001b[38;5;241m0\u001b[39m, \u001b[38;5;241m1\u001b[39m)\u001b[38;5;241m*\u001b[39m(\u001b[38;5;241m2\u001b[39m\u001b[38;5;241m*\u001b[39mnp\u001b[38;5;241m.\u001b[39mpi\u001b[38;5;241m/\u001b[39mwavelength)\u001b[38;5;241m*\u001b[39mkz_2\u001b[38;5;241m*\u001b[39md_2[j])\u001b[38;5;241m/\u001b[39mt_23, np\u001b[38;5;241m.\u001b[39mexp(\u001b[38;5;28mcomplex\u001b[39m(\u001b[38;5;241m0\u001b[39m, \u001b[38;5;241m1\u001b[39m)\u001b[38;5;241m*\u001b[39m(\u001b[38;5;241m2\u001b[39m\u001b[38;5;241m*\u001b[39mnp\u001b[38;5;241m.\u001b[39mpi\u001b[38;5;241m/\u001b[39mwavelength)\u001b[38;5;241m*\u001b[39mkz_2\u001b[38;5;241m*\u001b[39md_2[j])\u001b[38;5;241m/\u001b[39mt_23]])\n\u001b[0;32m      4\u001b[0m     S\u001b[38;5;241m=\u001b[39mS1\u001b[38;5;129m@S2\u001b[39m\u001b[38;5;129m@S3\u001b[39m\n\u001b[0;32m      5\u001b[0m     R \u001b[38;5;241m+\u001b[39m\u001b[38;5;241m=\u001b[39m [\u001b[38;5;28mabs\u001b[39m(S[\u001b[38;5;241m1\u001b[39m][\u001b[38;5;241m0\u001b[39m]\u001b[38;5;241m/\u001b[39mS[\u001b[38;5;241m0\u001b[39m][\u001b[38;5;241m0\u001b[39m])]\n",
      "\u001b[1;31mNameError\u001b[0m: name 'kz_2' is not defined"
     ]
    }
   ],
   "source": [
    "R = []\n",
    "for j in range(len(d_2)):   #1:1:length(d_2)\n",
    "    S2=np.array([[np.exp(-complex(0, 1)*(2*np.pi/wavelength)*kz_2*d_2[j])/t_23, r_23*np.exp(-complex(0, 1)*(2*np.pi/wavelength)*kz_2*d_2[j])/t_23],  [r_23*np.exp(complex(0, 1)*(2*np.pi/wavelength)*kz_2*d_2[j])/t_23, np.exp(complex(0, 1)*(2*np.pi/wavelength)*kz_2*d_2[j])/t_23]])\n",
    "    S=S1@S2@S3\n",
    "    R += [abs(S[1][0]/S[0][0])]\n",
    "\n",
    "\n",
    "plt.plot((d_2-d_3)*10**6, R)\n",
    "\n",
    "\n",
    "#Data=np.array([(d_2-d_3)*10**6, R])\n",
    "\n"
   ]
  },
  {
   "cell_type": "code",
   "execution_count": 152,
   "id": "c8af4079",
   "metadata": {},
   "outputs": [
    {
     "name": "stdout",
     "output_type": "stream",
     "text": [
      "Help on class complex in module builtins:\n",
      "\n",
      "class complex(object)\n",
      " |  complex(real=0, imag=0)\n",
      " |  \n",
      " |  Create a complex number from a real part and an optional imaginary part.\n",
      " |  \n",
      " |  This is equivalent to (real + imag*1j) where imag defaults to 0.\n",
      " |  \n",
      " |  Methods defined here:\n",
      " |  \n",
      " |  __abs__(self, /)\n",
      " |      abs(self)\n",
      " |  \n",
      " |  __add__(self, value, /)\n",
      " |      Return self+value.\n",
      " |  \n",
      " |  __bool__(self, /)\n",
      " |      True if self else False\n",
      " |  \n",
      " |  __eq__(self, value, /)\n",
      " |      Return self==value.\n",
      " |  \n",
      " |  __format__(self, format_spec, /)\n",
      " |      Convert to a string according to format_spec.\n",
      " |  \n",
      " |  __ge__(self, value, /)\n",
      " |      Return self>=value.\n",
      " |  \n",
      " |  __getattribute__(self, name, /)\n",
      " |      Return getattr(self, name).\n",
      " |  \n",
      " |  __getnewargs__(self, /)\n",
      " |  \n",
      " |  __gt__(self, value, /)\n",
      " |      Return self>value.\n",
      " |  \n",
      " |  __hash__(self, /)\n",
      " |      Return hash(self).\n",
      " |  \n",
      " |  __le__(self, value, /)\n",
      " |      Return self<=value.\n",
      " |  \n",
      " |  __lt__(self, value, /)\n",
      " |      Return self<value.\n",
      " |  \n",
      " |  __mul__(self, value, /)\n",
      " |      Return self*value.\n",
      " |  \n",
      " |  __ne__(self, value, /)\n",
      " |      Return self!=value.\n",
      " |  \n",
      " |  __neg__(self, /)\n",
      " |      -self\n",
      " |  \n",
      " |  __pos__(self, /)\n",
      " |      +self\n",
      " |  \n",
      " |  __pow__(self, value, mod=None, /)\n",
      " |      Return pow(self, value, mod).\n",
      " |  \n",
      " |  __radd__(self, value, /)\n",
      " |      Return value+self.\n",
      " |  \n",
      " |  __repr__(self, /)\n",
      " |      Return repr(self).\n",
      " |  \n",
      " |  __rmul__(self, value, /)\n",
      " |      Return value*self.\n",
      " |  \n",
      " |  __rpow__(self, value, mod=None, /)\n",
      " |      Return pow(value, self, mod).\n",
      " |  \n",
      " |  __rsub__(self, value, /)\n",
      " |      Return value-self.\n",
      " |  \n",
      " |  __rtruediv__(self, value, /)\n",
      " |      Return value/self.\n",
      " |  \n",
      " |  __sub__(self, value, /)\n",
      " |      Return self-value.\n",
      " |  \n",
      " |  __truediv__(self, value, /)\n",
      " |      Return self/value.\n",
      " |  \n",
      " |  conjugate(self, /)\n",
      " |      Return the complex conjugate of its argument. (3-4j).conjugate() == 3+4j.\n",
      " |  \n",
      " |  ----------------------------------------------------------------------\n",
      " |  Static methods defined here:\n",
      " |  \n",
      " |  __new__(*args, **kwargs) from builtins.type\n",
      " |      Create and return a new object.  See help(type) for accurate signature.\n",
      " |  \n",
      " |  ----------------------------------------------------------------------\n",
      " |  Data descriptors defined here:\n",
      " |  \n",
      " |  imag\n",
      " |      the imaginary part of a complex number\n",
      " |  \n",
      " |  real\n",
      " |      the real part of a complex number\n",
      "\n"
     ]
    }
   ],
   "source": [
    "help(\"complex\")"
   ]
  },
  {
   "cell_type": "code",
   "execution_count": null,
   "id": "4cb8ba19",
   "metadata": {},
   "outputs": [],
   "source": []
  }
 ],
 "metadata": {
  "kernelspec": {
   "display_name": "Python 3 (ipykernel)",
   "language": "python",
   "name": "python3"
  },
  "language_info": {
   "codemirror_mode": {
    "name": "ipython",
    "version": 3
   },
   "file_extension": ".py",
   "mimetype": "text/x-python",
   "name": "python",
   "nbconvert_exporter": "python",
   "pygments_lexer": "ipython3",
   "version": "3.10.4"
  }
 },
 "nbformat": 4,
 "nbformat_minor": 5
}
